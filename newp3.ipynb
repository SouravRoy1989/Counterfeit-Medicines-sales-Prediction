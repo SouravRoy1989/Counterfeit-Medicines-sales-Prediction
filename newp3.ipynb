{
 "cells": [
  {
   "cell_type": "code",
   "execution_count": 1,
   "metadata": {
    "collapsed": true
   },
   "outputs": [],
   "source": [
    "import numpy as np\n",
    "import pandas as pd\n",
    "import matplotlib.pyplot as plt\n",
    "import seaborn as sns\n",
    "%matplotlib inline\n",
    "from scipy.stats import norm, skew\n",
    "from scipy import stats"
   ]
  },
  {
   "cell_type": "code",
   "execution_count": 2,
   "metadata": {
    "collapsed": true
   },
   "outputs": [],
   "source": [
    "train=pd.read_csv('counterfeit_train.csv')"
   ]
  },
  {
   "cell_type": "code",
   "execution_count": 3,
   "metadata": {},
   "outputs": [
    {
     "data": {
      "text/html": [
       "<div>\n",
       "<style>\n",
       "    .dataframe thead tr:only-child th {\n",
       "        text-align: right;\n",
       "    }\n",
       "\n",
       "    .dataframe thead th {\n",
       "        text-align: left;\n",
       "    }\n",
       "\n",
       "    .dataframe tbody tr th {\n",
       "        vertical-align: top;\n",
       "    }\n",
       "</style>\n",
       "<table border=\"1\" class=\"dataframe\">\n",
       "  <thead>\n",
       "    <tr style=\"text-align: right;\">\n",
       "      <th></th>\n",
       "      <th>Medicine_ID</th>\n",
       "      <th>Counterfeit_Weight</th>\n",
       "      <th>DistArea_ID</th>\n",
       "      <th>Active_Since</th>\n",
       "      <th>Medicine_MRP</th>\n",
       "      <th>Medicine_Type</th>\n",
       "      <th>SidEffect_Level</th>\n",
       "      <th>Availability_rating</th>\n",
       "      <th>Area_Type</th>\n",
       "      <th>Area_City_Type</th>\n",
       "      <th>Area_dist_level</th>\n",
       "      <th>Counterfeit_Sales</th>\n",
       "    </tr>\n",
       "  </thead>\n",
       "  <tbody>\n",
       "    <tr>\n",
       "      <th>0</th>\n",
       "      <td>RRA15</td>\n",
       "      <td>13.100</td>\n",
       "      <td>Area046</td>\n",
       "      <td>1995</td>\n",
       "      <td>160.2366</td>\n",
       "      <td>Antimalarial</td>\n",
       "      <td>critical</td>\n",
       "      <td>0.070422</td>\n",
       "      <td>DownTown</td>\n",
       "      <td>Tier 1</td>\n",
       "      <td>Small</td>\n",
       "      <td>1775.5026</td>\n",
       "    </tr>\n",
       "    <tr>\n",
       "      <th>1</th>\n",
       "      <td>YVV26</td>\n",
       "      <td>NaN</td>\n",
       "      <td>Area027</td>\n",
       "      <td>1983</td>\n",
       "      <td>110.4384</td>\n",
       "      <td>Mstablizers</td>\n",
       "      <td>mild</td>\n",
       "      <td>0.013000</td>\n",
       "      <td>CityLimits</td>\n",
       "      <td>Tier 3</td>\n",
       "      <td>Medium</td>\n",
       "      <td>3069.1520</td>\n",
       "    </tr>\n",
       "    <tr>\n",
       "      <th>2</th>\n",
       "      <td>LJC15</td>\n",
       "      <td>9.025</td>\n",
       "      <td>Area046</td>\n",
       "      <td>1995</td>\n",
       "      <td>259.4092</td>\n",
       "      <td>Cardiac</td>\n",
       "      <td>mild</td>\n",
       "      <td>0.060783</td>\n",
       "      <td>DownTown</td>\n",
       "      <td>Tier 1</td>\n",
       "      <td>Small</td>\n",
       "      <td>2603.0920</td>\n",
       "    </tr>\n",
       "    <tr>\n",
       "      <th>3</th>\n",
       "      <td>GWC40</td>\n",
       "      <td>11.800</td>\n",
       "      <td>Area046</td>\n",
       "      <td>1995</td>\n",
       "      <td>99.9830</td>\n",
       "      <td>OralContraceptives</td>\n",
       "      <td>mild</td>\n",
       "      <td>0.065555</td>\n",
       "      <td>DownTown</td>\n",
       "      <td>Tier 1</td>\n",
       "      <td>Small</td>\n",
       "      <td>1101.7130</td>\n",
       "    </tr>\n",
       "    <tr>\n",
       "      <th>4</th>\n",
       "      <td>QMN13</td>\n",
       "      <td>NaN</td>\n",
       "      <td>Area019</td>\n",
       "      <td>1983</td>\n",
       "      <td>56.4402</td>\n",
       "      <td>Hreplacements</td>\n",
       "      <td>critical</td>\n",
       "      <td>0.248859</td>\n",
       "      <td>MidTownResidential</td>\n",
       "      <td>Tier 1</td>\n",
       "      <td>Small</td>\n",
       "      <td>158.9402</td>\n",
       "    </tr>\n",
       "  </tbody>\n",
       "</table>\n",
       "</div>"
      ],
      "text/plain": [
       "  Medicine_ID  Counterfeit_Weight DistArea_ID  Active_Since  Medicine_MRP  \\\n",
       "0       RRA15              13.100     Area046          1995      160.2366   \n",
       "1       YVV26                 NaN     Area027          1983      110.4384   \n",
       "2       LJC15               9.025     Area046          1995      259.4092   \n",
       "3       GWC40              11.800     Area046          1995       99.9830   \n",
       "4       QMN13                 NaN     Area019          1983       56.4402   \n",
       "\n",
       "        Medicine_Type SidEffect_Level  Availability_rating  \\\n",
       "0        Antimalarial        critical             0.070422   \n",
       "1         Mstablizers            mild             0.013000   \n",
       "2             Cardiac            mild             0.060783   \n",
       "3  OralContraceptives            mild             0.065555   \n",
       "4       Hreplacements        critical             0.248859   \n",
       "\n",
       "            Area_Type Area_City_Type Area_dist_level  Counterfeit_Sales  \n",
       "0            DownTown         Tier 1           Small          1775.5026  \n",
       "1          CityLimits         Tier 3          Medium          3069.1520  \n",
       "2            DownTown         Tier 1           Small          2603.0920  \n",
       "3            DownTown         Tier 1           Small          1101.7130  \n",
       "4  MidTownResidential         Tier 1           Small           158.9402  "
      ]
     },
     "execution_count": 3,
     "metadata": {},
     "output_type": "execute_result"
    }
   ],
   "source": [
    "train.head()"
   ]
  },
  {
   "cell_type": "code",
   "execution_count": 4,
   "metadata": {},
   "outputs": [
    {
     "name": "stdout",
     "output_type": "stream",
     "text": [
      "2017 12 28 2 0 28\n"
     ]
    }
   ],
   "source": [
    "import datetime\n",
    "now = datetime.datetime.now()\n",
    "print (now.year, now.month, now.day, now.hour, now.minute, now.second)"
   ]
  },
  {
   "cell_type": "code",
   "execution_count": 5,
   "metadata": {
    "collapsed": true
   },
   "outputs": [],
   "source": [
    "train['active from c_d']= train['Active_Since'].apply(lambda x: now.year-x)"
   ]
  },
  {
   "cell_type": "code",
   "execution_count": 6,
   "metadata": {},
   "outputs": [
    {
     "data": {
      "text/plain": [
       "0    22\n",
       "1    34\n",
       "2    22\n",
       "3    22\n",
       "4    34\n",
       "Name: active from c_d, dtype: int64"
      ]
     },
     "execution_count": 6,
     "metadata": {},
     "output_type": "execute_result"
    }
   ],
   "source": [
    "train['active from c_d'].head()"
   ]
  },
  {
   "cell_type": "code",
   "execution_count": 7,
   "metadata": {},
   "outputs": [
    {
     "data": {
      "text/plain": [
       "<matplotlib.axes._subplots.AxesSubplot at 0xc50bbe0>"
      ]
     },
     "execution_count": 7,
     "metadata": {},
     "output_type": "execute_result"
    },
    {
     "data": {
      "image/png": "[encoded data removed]",
      "text/plain": [
       "<matplotlib.figure.Figure at 0xc50b780>"
      ]
     },
     "metadata": {},
     "output_type": "display_data"
    }
   ],
   "source": [
    "sns.distplot(train['Counterfeit_Sales'])\n"
   ]
  },
  {
   "cell_type": "code",
   "execution_count": 8,
   "metadata": {
    "collapsed": true
   },
   "outputs": [],
   "source": [
    "train[\"Counterfeit_Sales_l\"] = np.log1p(train[\"Counterfeit_Sales\"])"
   ]
  },
  {
   "cell_type": "code",
   "execution_count": 9,
   "metadata": {},
   "outputs": [
    {
     "data": {
      "text/plain": [
       "<matplotlib.axes._subplots.AxesSubplot at 0xbcb6208>"
      ]
     },
     "execution_count": 9,
     "metadata": {},
     "output_type": "execute_result"
    },
    {
     "data": {
      "image/png": "[encoded data removed]",
      "text/plain": [
       "<matplotlib.figure.Figure at 0xbc75940>"
      ]
     },
     "metadata": {},
     "output_type": "display_data"
    }
   ],
   "source": [
    "sns.distplot(train['Counterfeit_Sales_l'])"
   ]
  },
  {
   "cell_type": "code",
   "execution_count": 10,
   "metadata": {},
   "outputs": [
    {
     "data": {
      "text/plain": [
       "<seaborn.axisgrid.FacetGrid at 0xbf7d400>"
      ]
     },
     "execution_count": 10,
     "metadata": {},
     "output_type": "execute_result"
    },
    {
     "data": {
      "image/png": "[encoded data removed]",
      "text/plain": [
       "<matplotlib.figure.Figure at 0xbf5d4e0>"
      ]
     },
     "metadata": {},
     "output_type": "display_data"
    }
   ],
   "source": [
    "sns.lmplot(x='active from c_d',y='Counterfeit_Sales' , data=train)"
   ]
  },
  {
   "cell_type": "code",
   "execution_count": 11,
   "metadata": {},
   "outputs": [
    {
     "data": {
      "text/plain": [
       "34    1166\n",
       "12     760\n",
       "22     749\n",
       "32     749\n",
       "15     748\n",
       "20     739\n",
       "17     736\n",
       "10     729\n",
       "21     442\n",
       "Name: active from c_d, dtype: int64"
      ]
     },
     "execution_count": 11,
     "metadata": {},
     "output_type": "execute_result"
    }
   ],
   "source": [
    "train['active from c_d'].value_counts()\n"
   ]
  },
  {
   "cell_type": "code",
   "execution_count": 12,
   "metadata": {},
   "outputs": [
    {
     "data": {
      "text/plain": [
       "<matplotlib.axes._subplots.AxesSubplot at 0xbf7d198>"
      ]
     },
     "execution_count": 12,
     "metadata": {},
     "output_type": "execute_result"
    },
    {
     "data": {
      "image/png": "[encoded data removed]",
      "text/plain": [
       "<matplotlib.figure.Figure at 0xc08a2e8>"
      ]
     },
     "metadata": {},
     "output_type": "display_data"
    }
   ],
   "source": [
    "corrmat = train.corr()\n",
    "\n",
    "plt.subplots(figsize=(12,9))\n",
    "sns.heatmap(corrmat, vmax=0.9, square=True)"
   ]
  },
  {
   "cell_type": "code",
   "execution_count": 13,
   "metadata": {},
   "outputs": [
    {
     "data": {
      "text/html": [
       "<div>\n",
       "<style>\n",
       "    .dataframe thead tr:only-child th {\n",
       "        text-align: right;\n",
       "    }\n",
       "\n",
       "    .dataframe thead th {\n",
       "        text-align: left;\n",
       "    }\n",
       "\n",
       "    .dataframe tbody tr th {\n",
       "        vertical-align: top;\n",
       "    }\n",
       "</style>\n",
       "<table border=\"1\" class=\"dataframe\">\n",
       "  <thead>\n",
       "    <tr style=\"text-align: right;\">\n",
       "      <th></th>\n",
       "      <th>Counterfeit_Weight</th>\n",
       "      <th>Active_Since</th>\n",
       "      <th>Medicine_MRP</th>\n",
       "      <th>Availability_rating</th>\n",
       "      <th>Counterfeit_Sales</th>\n",
       "      <th>active from c_d</th>\n",
       "      <th>Counterfeit_Sales_l</th>\n",
       "    </tr>\n",
       "  </thead>\n",
       "  <tbody>\n",
       "    <tr>\n",
       "      <th>Counterfeit_Weight</th>\n",
       "      <td>1.000000</td>\n",
       "      <td>-0.016590</td>\n",
       "      <td>0.028523</td>\n",
       "      <td>-0.017632</td>\n",
       "      <td>0.005959</td>\n",
       "      <td>0.016590</td>\n",
       "      <td>0.002792</td>\n",
       "    </tr>\n",
       "    <tr>\n",
       "      <th>Active_Since</th>\n",
       "      <td>-0.016590</td>\n",
       "      <td>1.000000</td>\n",
       "      <td>0.002996</td>\n",
       "      <td>-0.075744</td>\n",
       "      <td>-0.039595</td>\n",
       "      <td>-1.000000</td>\n",
       "      <td>0.067068</td>\n",
       "    </tr>\n",
       "    <tr>\n",
       "      <th>Medicine_MRP</th>\n",
       "      <td>0.028523</td>\n",
       "      <td>0.002996</td>\n",
       "      <td>1.000000</td>\n",
       "      <td>-0.003216</td>\n",
       "      <td>0.573684</td>\n",
       "      <td>-0.002996</td>\n",
       "      <td>0.530097</td>\n",
       "    </tr>\n",
       "    <tr>\n",
       "      <th>Availability_rating</th>\n",
       "      <td>-0.017632</td>\n",
       "      <td>-0.075744</td>\n",
       "      <td>-0.003216</td>\n",
       "      <td>1.000000</td>\n",
       "      <td>-0.124058</td>\n",
       "      <td>0.075744</td>\n",
       "      <td>-0.181683</td>\n",
       "    </tr>\n",
       "    <tr>\n",
       "      <th>Counterfeit_Sales</th>\n",
       "      <td>0.005959</td>\n",
       "      <td>-0.039595</td>\n",
       "      <td>0.573684</td>\n",
       "      <td>-0.124058</td>\n",
       "      <td>1.000000</td>\n",
       "      <td>0.039595</td>\n",
       "      <td>0.895786</td>\n",
       "    </tr>\n",
       "    <tr>\n",
       "      <th>active from c_d</th>\n",
       "      <td>0.016590</td>\n",
       "      <td>-1.000000</td>\n",
       "      <td>-0.002996</td>\n",
       "      <td>0.075744</td>\n",
       "      <td>0.039595</td>\n",
       "      <td>1.000000</td>\n",
       "      <td>-0.067068</td>\n",
       "    </tr>\n",
       "    <tr>\n",
       "      <th>Counterfeit_Sales_l</th>\n",
       "      <td>0.002792</td>\n",
       "      <td>0.067068</td>\n",
       "      <td>0.530097</td>\n",
       "      <td>-0.181683</td>\n",
       "      <td>0.895786</td>\n",
       "      <td>-0.067068</td>\n",
       "      <td>1.000000</td>\n",
       "    </tr>\n",
       "  </tbody>\n",
       "</table>\n",
       "</div>"
      ],
      "text/plain": [
       "                     Counterfeit_Weight  Active_Since  Medicine_MRP  \\\n",
       "Counterfeit_Weight             1.000000     -0.016590      0.028523   \n",
       "Active_Since                  -0.016590      1.000000      0.002996   \n",
       "Medicine_MRP                   0.028523      0.002996      1.000000   \n",
       "Availability_rating           -0.017632     -0.075744     -0.003216   \n",
       "Counterfeit_Sales              0.005959     -0.039595      0.573684   \n",
       "active from c_d                0.016590     -1.000000     -0.002996   \n",
       "Counterfeit_Sales_l            0.002792      0.067068      0.530097   \n",
       "\n",
       "                     Availability_rating  Counterfeit_Sales  active from c_d  \\\n",
       "Counterfeit_Weight             -0.017632           0.005959         0.016590   \n",
       "Active_Since                   -0.075744          -0.039595        -1.000000   \n",
       "Medicine_MRP                   -0.003216           0.573684        -0.002996   \n",
       "Availability_rating             1.000000          -0.124058         0.075744   \n",
       "Counterfeit_Sales              -0.124058           1.000000         0.039595   \n",
       "active from c_d                 0.075744           0.039595         1.000000   \n",
       "Counterfeit_Sales_l            -0.181683           0.895786        -0.067068   \n",
       "\n",
       "                     Counterfeit_Sales_l  \n",
       "Counterfeit_Weight              0.002792  \n",
       "Active_Since                    0.067068  \n",
       "Medicine_MRP                    0.530097  \n",
       "Availability_rating            -0.181683  \n",
       "Counterfeit_Sales               0.895786  \n",
       "active from c_d                -0.067068  \n",
       "Counterfeit_Sales_l             1.000000  "
      ]
     },
     "execution_count": 13,
     "metadata": {},
     "output_type": "execute_result"
    }
   ],
   "source": [
    "train.corr()\n"
   ]
  },
  {
   "cell_type": "code",
   "execution_count": 14,
   "metadata": {},
   "outputs": [
    {
     "data": {
      "text/html": [
       "<div>\n",
       "<style>\n",
       "    .dataframe thead tr:only-child th {\n",
       "        text-align: right;\n",
       "    }\n",
       "\n",
       "    .dataframe thead th {\n",
       "        text-align: left;\n",
       "    }\n",
       "\n",
       "    .dataframe tbody tr th {\n",
       "        vertical-align: top;\n",
       "    }\n",
       "</style>\n",
       "<table border=\"1\" class=\"dataframe\">\n",
       "  <thead>\n",
       "    <tr style=\"text-align: right;\">\n",
       "      <th></th>\n",
       "      <th>Missing Ratio</th>\n",
       "    </tr>\n",
       "  </thead>\n",
       "  <tbody>\n",
       "    <tr>\n",
       "      <th>Counterfeit_Weight</th>\n",
       "      <td>17.101789</td>\n",
       "    </tr>\n",
       "  </tbody>\n",
       "</table>\n",
       "</div>"
      ],
      "text/plain": [
       "                    Missing Ratio\n",
       "Counterfeit_Weight      17.101789"
      ]
     },
     "execution_count": 14,
     "metadata": {},
     "output_type": "execute_result"
    }
   ],
   "source": [
    "all_data_na = (train.isnull().sum() / len(train)) * 100\n",
    "all_data_na = all_data_na.drop(all_data_na[all_data_na == 0].index).sort_values(ascending=False)[:30]\n",
    "missing_data = pd.DataFrame({'Missing Ratio' :all_data_na})\n",
    "missing_data.head()"
   ]
  },
  {
   "cell_type": "code",
   "execution_count": 15,
   "metadata": {},
   "outputs": [
    {
     "data": {
      "text/plain": [
       "<seaborn.axisgrid.FacetGrid at 0xc3fc128>"
      ]
     },
     "execution_count": 15,
     "metadata": {},
     "output_type": "execute_result"
    },
    {
     "data": {
      "image/png": "[encoded data removed]",
      "text/plain": [
       "<matplotlib.figure.Figure at 0xc30e2b0>"
      ]
     },
     "metadata": {},
     "output_type": "display_data"
    }
   ],
   "source": [
    "sns.lmplot(x='Counterfeit_Weight',y='Counterfeit_Sales' , data=train)"
   ]
  },
  {
   "cell_type": "code",
   "execution_count": 16,
   "metadata": {
    "collapsed": true
   },
   "outputs": [],
   "source": [
    "#I am dropping the counterfeit-weight as a dont find any  relation \n",
    "train=train.drop(['Counterfeit_Weight'],1)\n"
   ]
  },
  {
   "cell_type": "code",
   "execution_count": 17,
   "metadata": {},
   "outputs": [
    {
     "data": {
      "text/html": [
       "<div>\n",
       "<style>\n",
       "    .dataframe thead tr:only-child th {\n",
       "        text-align: right;\n",
       "    }\n",
       "\n",
       "    .dataframe thead th {\n",
       "        text-align: left;\n",
       "    }\n",
       "\n",
       "    .dataframe tbody tr th {\n",
       "        vertical-align: top;\n",
       "    }\n",
       "</style>\n",
       "<table border=\"1\" class=\"dataframe\">\n",
       "  <thead>\n",
       "    <tr style=\"text-align: right;\">\n",
       "      <th></th>\n",
       "      <th>Medicine_ID</th>\n",
       "      <th>DistArea_ID</th>\n",
       "      <th>Active_Since</th>\n",
       "      <th>Medicine_MRP</th>\n",
       "      <th>Medicine_Type</th>\n",
       "      <th>SidEffect_Level</th>\n",
       "      <th>Availability_rating</th>\n",
       "      <th>Area_Type</th>\n",
       "      <th>Area_City_Type</th>\n",
       "      <th>Area_dist_level</th>\n",
       "      <th>Counterfeit_Sales</th>\n",
       "      <th>active from c_d</th>\n",
       "      <th>Counterfeit_Sales_l</th>\n",
       "    </tr>\n",
       "  </thead>\n",
       "  <tbody>\n",
       "    <tr>\n",
       "      <th>0</th>\n",
       "      <td>RRA15</td>\n",
       "      <td>Area046</td>\n",
       "      <td>1995</td>\n",
       "      <td>160.2366</td>\n",
       "      <td>Antimalarial</td>\n",
       "      <td>critical</td>\n",
       "      <td>0.070422</td>\n",
       "      <td>DownTown</td>\n",
       "      <td>Tier 1</td>\n",
       "      <td>Small</td>\n",
       "      <td>1775.5026</td>\n",
       "      <td>22</td>\n",
       "      <td>7.482402</td>\n",
       "    </tr>\n",
       "    <tr>\n",
       "      <th>1</th>\n",
       "      <td>YVV26</td>\n",
       "      <td>Area027</td>\n",
       "      <td>1983</td>\n",
       "      <td>110.4384</td>\n",
       "      <td>Mstablizers</td>\n",
       "      <td>mild</td>\n",
       "      <td>0.013000</td>\n",
       "      <td>CityLimits</td>\n",
       "      <td>Tier 3</td>\n",
       "      <td>Medium</td>\n",
       "      <td>3069.1520</td>\n",
       "      <td>34</td>\n",
       "      <td>8.029482</td>\n",
       "    </tr>\n",
       "    <tr>\n",
       "      <th>2</th>\n",
       "      <td>LJC15</td>\n",
       "      <td>Area046</td>\n",
       "      <td>1995</td>\n",
       "      <td>259.4092</td>\n",
       "      <td>Cardiac</td>\n",
       "      <td>mild</td>\n",
       "      <td>0.060783</td>\n",
       "      <td>DownTown</td>\n",
       "      <td>Tier 1</td>\n",
       "      <td>Small</td>\n",
       "      <td>2603.0920</td>\n",
       "      <td>22</td>\n",
       "      <td>7.864839</td>\n",
       "    </tr>\n",
       "    <tr>\n",
       "      <th>3</th>\n",
       "      <td>GWC40</td>\n",
       "      <td>Area046</td>\n",
       "      <td>1995</td>\n",
       "      <td>99.9830</td>\n",
       "      <td>OralContraceptives</td>\n",
       "      <td>mild</td>\n",
       "      <td>0.065555</td>\n",
       "      <td>DownTown</td>\n",
       "      <td>Tier 1</td>\n",
       "      <td>Small</td>\n",
       "      <td>1101.7130</td>\n",
       "      <td>22</td>\n",
       "      <td>7.005529</td>\n",
       "    </tr>\n",
       "    <tr>\n",
       "      <th>4</th>\n",
       "      <td>QMN13</td>\n",
       "      <td>Area019</td>\n",
       "      <td>1983</td>\n",
       "      <td>56.4402</td>\n",
       "      <td>Hreplacements</td>\n",
       "      <td>critical</td>\n",
       "      <td>0.248859</td>\n",
       "      <td>MidTownResidential</td>\n",
       "      <td>Tier 1</td>\n",
       "      <td>Small</td>\n",
       "      <td>158.9402</td>\n",
       "      <td>34</td>\n",
       "      <td>5.074800</td>\n",
       "    </tr>\n",
       "  </tbody>\n",
       "</table>\n",
       "</div>"
      ],
      "text/plain": [
       "  Medicine_ID DistArea_ID  Active_Since  Medicine_MRP       Medicine_Type  \\\n",
       "0       RRA15     Area046          1995      160.2366        Antimalarial   \n",
       "1       YVV26     Area027          1983      110.4384         Mstablizers   \n",
       "2       LJC15     Area046          1995      259.4092             Cardiac   \n",
       "3       GWC40     Area046          1995       99.9830  OralContraceptives   \n",
       "4       QMN13     Area019          1983       56.4402       Hreplacements   \n",
       "\n",
       "  SidEffect_Level  Availability_rating           Area_Type Area_City_Type  \\\n",
       "0        critical             0.070422            DownTown         Tier 1   \n",
       "1            mild             0.013000          CityLimits         Tier 3   \n",
       "2            mild             0.060783            DownTown         Tier 1   \n",
       "3            mild             0.065555            DownTown         Tier 1   \n",
       "4        critical             0.248859  MidTownResidential         Tier 1   \n",
       "\n",
       "  Area_dist_level  Counterfeit_Sales  active from c_d  Counterfeit_Sales_l  \n",
       "0           Small          1775.5026               22             7.482402  \n",
       "1          Medium          3069.1520               34             8.029482  \n",
       "2           Small          2603.0920               22             7.864839  \n",
       "3           Small          1101.7130               22             7.005529  \n",
       "4           Small           158.9402               34             5.074800  "
      ]
     },
     "execution_count": 17,
     "metadata": {},
     "output_type": "execute_result"
    }
   ],
   "source": [
    "train.head()"
   ]
  },
  {
   "cell_type": "code",
   "execution_count": 18,
   "metadata": {
    "collapsed": true
   },
   "outputs": [],
   "source": [
    "train=train.drop(['Active_Since'],1)"
   ]
  },
  {
   "cell_type": "code",
   "execution_count": 19,
   "metadata": {},
   "outputs": [
    {
     "data": {
      "text/html": [
       "<div>\n",
       "<style>\n",
       "    .dataframe thead tr:only-child th {\n",
       "        text-align: right;\n",
       "    }\n",
       "\n",
       "    .dataframe thead th {\n",
       "        text-align: left;\n",
       "    }\n",
       "\n",
       "    .dataframe tbody tr th {\n",
       "        vertical-align: top;\n",
       "    }\n",
       "</style>\n",
       "<table border=\"1\" class=\"dataframe\">\n",
       "  <thead>\n",
       "    <tr style=\"text-align: right;\">\n",
       "      <th></th>\n",
       "      <th>Medicine_ID</th>\n",
       "      <th>DistArea_ID</th>\n",
       "      <th>Medicine_MRP</th>\n",
       "      <th>Medicine_Type</th>\n",
       "      <th>SidEffect_Level</th>\n",
       "      <th>Availability_rating</th>\n",
       "      <th>Area_Type</th>\n",
       "      <th>Area_City_Type</th>\n",
       "      <th>Area_dist_level</th>\n",
       "      <th>Counterfeit_Sales</th>\n",
       "      <th>active from c_d</th>\n",
       "      <th>Counterfeit_Sales_l</th>\n",
       "    </tr>\n",
       "  </thead>\n",
       "  <tbody>\n",
       "    <tr>\n",
       "      <th>0</th>\n",
       "      <td>RRA15</td>\n",
       "      <td>Area046</td>\n",
       "      <td>160.2366</td>\n",
       "      <td>Antimalarial</td>\n",
       "      <td>critical</td>\n",
       "      <td>0.070422</td>\n",
       "      <td>DownTown</td>\n",
       "      <td>Tier 1</td>\n",
       "      <td>Small</td>\n",
       "      <td>1775.5026</td>\n",
       "      <td>22</td>\n",
       "      <td>7.482402</td>\n",
       "    </tr>\n",
       "    <tr>\n",
       "      <th>1</th>\n",
       "      <td>YVV26</td>\n",
       "      <td>Area027</td>\n",
       "      <td>110.4384</td>\n",
       "      <td>Mstablizers</td>\n",
       "      <td>mild</td>\n",
       "      <td>0.013000</td>\n",
       "      <td>CityLimits</td>\n",
       "      <td>Tier 3</td>\n",
       "      <td>Medium</td>\n",
       "      <td>3069.1520</td>\n",
       "      <td>34</td>\n",
       "      <td>8.029482</td>\n",
       "    </tr>\n",
       "    <tr>\n",
       "      <th>2</th>\n",
       "      <td>LJC15</td>\n",
       "      <td>Area046</td>\n",
       "      <td>259.4092</td>\n",
       "      <td>Cardiac</td>\n",
       "      <td>mild</td>\n",
       "      <td>0.060783</td>\n",
       "      <td>DownTown</td>\n",
       "      <td>Tier 1</td>\n",
       "      <td>Small</td>\n",
       "      <td>2603.0920</td>\n",
       "      <td>22</td>\n",
       "      <td>7.864839</td>\n",
       "    </tr>\n",
       "    <tr>\n",
       "      <th>3</th>\n",
       "      <td>GWC40</td>\n",
       "      <td>Area046</td>\n",
       "      <td>99.9830</td>\n",
       "      <td>OralContraceptives</td>\n",
       "      <td>mild</td>\n",
       "      <td>0.065555</td>\n",
       "      <td>DownTown</td>\n",
       "      <td>Tier 1</td>\n",
       "      <td>Small</td>\n",
       "      <td>1101.7130</td>\n",
       "      <td>22</td>\n",
       "      <td>7.005529</td>\n",
       "    </tr>\n",
       "    <tr>\n",
       "      <th>4</th>\n",
       "      <td>QMN13</td>\n",
       "      <td>Area019</td>\n",
       "      <td>56.4402</td>\n",
       "      <td>Hreplacements</td>\n",
       "      <td>critical</td>\n",
       "      <td>0.248859</td>\n",
       "      <td>MidTownResidential</td>\n",
       "      <td>Tier 1</td>\n",
       "      <td>Small</td>\n",
       "      <td>158.9402</td>\n",
       "      <td>34</td>\n",
       "      <td>5.074800</td>\n",
       "    </tr>\n",
       "  </tbody>\n",
       "</table>\n",
       "</div>"
      ],
      "text/plain": [
       "  Medicine_ID DistArea_ID  Medicine_MRP       Medicine_Type SidEffect_Level  \\\n",
       "0       RRA15     Area046      160.2366        Antimalarial        critical   \n",
       "1       YVV26     Area027      110.4384         Mstablizers            mild   \n",
       "2       LJC15     Area046      259.4092             Cardiac            mild   \n",
       "3       GWC40     Area046       99.9830  OralContraceptives            mild   \n",
       "4       QMN13     Area019       56.4402       Hreplacements        critical   \n",
       "\n",
       "   Availability_rating           Area_Type Area_City_Type Area_dist_level  \\\n",
       "0             0.070422            DownTown         Tier 1           Small   \n",
       "1             0.013000          CityLimits         Tier 3          Medium   \n",
       "2             0.060783            DownTown         Tier 1           Small   \n",
       "3             0.065555            DownTown         Tier 1           Small   \n",
       "4             0.248859  MidTownResidential         Tier 1           Small   \n",
       "\n",
       "   Counterfeit_Sales  active from c_d  Counterfeit_Sales_l  \n",
       "0          1775.5026               22             7.482402  \n",
       "1          3069.1520               34             8.029482  \n",
       "2          2603.0920               22             7.864839  \n",
       "3          1101.7130               22             7.005529  \n",
       "4           158.9402               34             5.074800  "
      ]
     },
     "execution_count": 19,
     "metadata": {},
     "output_type": "execute_result"
    }
   ],
   "source": [
    "train.head()"
   ]
  },
  {
   "cell_type": "code",
   "execution_count": 20,
   "metadata": {},
   "outputs": [
    {
     "data": {
      "text/plain": [
       "<seaborn.axisgrid.FacetGrid at 0xc7224a8>"
      ]
     },
     "execution_count": 20,
     "metadata": {},
     "output_type": "execute_result"
    },
    {
     "data": {
      "image/png": "[encoded data removed]",
      "text/plain": [
       "<matplotlib.figure.Figure at 0xc722fd0>"
      ]
     },
     "metadata": {},
     "output_type": "display_data"
    }
   ],
   "source": [
    "sns.lmplot(x='Medicine_MRP',y='Counterfeit_Sales' , data=train) # i ran the outlier code berlow then previewed it again."
   ]
  },
  {
   "cell_type": "code",
   "execution_count": 21,
   "metadata": {
    "collapsed": true
   },
   "outputs": [],
   "source": [
    "train = train.drop(train[(train['Medicine_MRP']>150) & (train['Counterfeit_Sales']>12000)].index)"
   ]
  },
  {
   "cell_type": "code",
   "execution_count": 22,
   "metadata": {},
   "outputs": [
    {
     "name": "stdout",
     "output_type": "stream",
     "text": [
      "\n",
      " mu = 2277.52 and sigma = 1684.00\n",
      "\n"
     ]
    },
    {
     "data": {
      "image/png": "[encoded data removed]",
      "text/plain": [
       "<matplotlib.figure.Figure at 0xc7275f8>"
      ]
     },
     "metadata": {},
     "output_type": "display_data"
    },
    {
     "data": {
      "image/png": "[encoded data removed]",
      "text/plain": [
       "<matplotlib.figure.Figure at 0xc722b00>"
      ]
     },
     "metadata": {},
     "output_type": "display_data"
    }
   ],
   "source": [
    "sns.distplot(train['Counterfeit_Sales'], fit =norm);\n",
    "\n",
    "# Get the fitted parameters used by the function\n",
    "(mu, sigma) = norm.fit(train['Counterfeit_Sales'])\n",
    "print( '\\n mu = {:.2f} and sigma = {:.2f}\\n'.format(mu, sigma))\n",
    "\n",
    "#Now plot the distribution\n",
    "plt.legend(['Normal dist. ($\\mu=$ {:.2f} and $\\sigma=$ {:.2f} )'.format(mu, sigma)],\n",
    "            loc='best')\n",
    "plt.ylabel('Frequency')\n",
    "plt.title('SalePrice distribution')\n",
    "\n",
    "#Get also the QQ-plot\n",
    "fig = plt.figure()\n",
    "res = stats.probplot(train['Counterfeit_Sales'], plot=plt)\n",
    "plt.show()"
   ]
  },
  {
   "cell_type": "code",
   "execution_count": 23,
   "metadata": {},
   "outputs": [
    {
     "name": "stdout",
     "output_type": "stream",
     "text": [
      "\n",
      " mu = 7.41 and sigma = 0.87\n",
      "\n"
     ]
    },
    {
     "data": {
      "image/png": "[encoded data removed]",
      "text/plain": [
       "<matplotlib.figure.Figure at 0xd8072e8>"
      ]
     },
     "metadata": {},
     "output_type": "display_data"
    },
    {
     "data": {
      "image/png": "[encoded data removed]",
      "text/plain": [
       "<matplotlib.figure.Figure at 0xd8073c8>"
      ]
     },
     "metadata": {},
     "output_type": "display_data"
    }
   ],
   "source": [
    "sns.distplot(train['Counterfeit_Sales_l'], fit =norm);\n",
    "\n",
    "# Get the fitted parameters used by the function\n",
    "(mu, sigma) = norm.fit(train['Counterfeit_Sales_l'])\n",
    "print( '\\n mu = {:.2f} and sigma = {:.2f}\\n'.format(mu, sigma))\n",
    "\n",
    "#Now plot the distribution\n",
    "plt.legend(['Normal dist. ($\\mu=$ {:.2f} and $\\sigma=$ {:.2f} )'.format(mu, sigma)],\n",
    "            loc='best')\n",
    "plt.ylabel('Frequency')\n",
    "plt.title('SalePrice distribution_l')\n",
    "\n",
    "#Get also the QQ-plot\n",
    "fig = plt.figure()\n",
    "res = stats.probplot(train['Counterfeit_Sales_l'], plot=plt)\n",
    "plt.show()"
   ]
  },
  {
   "cell_type": "code",
   "execution_count": 24,
   "metadata": {},
   "outputs": [
    {
     "data": {
      "text/html": [
       "<div>\n",
       "<style>\n",
       "    .dataframe thead tr:only-child th {\n",
       "        text-align: right;\n",
       "    }\n",
       "\n",
       "    .dataframe thead th {\n",
       "        text-align: left;\n",
       "    }\n",
       "\n",
       "    .dataframe tbody tr th {\n",
       "        vertical-align: top;\n",
       "    }\n",
       "</style>\n",
       "<table border=\"1\" class=\"dataframe\">\n",
       "  <thead>\n",
       "    <tr style=\"text-align: right;\">\n",
       "      <th></th>\n",
       "      <th>Medicine_ID</th>\n",
       "      <th>DistArea_ID</th>\n",
       "      <th>Medicine_MRP</th>\n",
       "      <th>Medicine_Type</th>\n",
       "      <th>SidEffect_Level</th>\n",
       "      <th>Availability_rating</th>\n",
       "      <th>Area_Type</th>\n",
       "      <th>Area_City_Type</th>\n",
       "      <th>Area_dist_level</th>\n",
       "      <th>Counterfeit_Sales</th>\n",
       "      <th>active from c_d</th>\n",
       "      <th>Counterfeit_Sales_l</th>\n",
       "    </tr>\n",
       "  </thead>\n",
       "  <tbody>\n",
       "    <tr>\n",
       "      <th>0</th>\n",
       "      <td>RRA15</td>\n",
       "      <td>Area046</td>\n",
       "      <td>160.2366</td>\n",
       "      <td>Antimalarial</td>\n",
       "      <td>critical</td>\n",
       "      <td>0.070422</td>\n",
       "      <td>DownTown</td>\n",
       "      <td>Tier 1</td>\n",
       "      <td>Small</td>\n",
       "      <td>1775.5026</td>\n",
       "      <td>22</td>\n",
       "      <td>7.482402</td>\n",
       "    </tr>\n",
       "    <tr>\n",
       "      <th>1</th>\n",
       "      <td>YVV26</td>\n",
       "      <td>Area027</td>\n",
       "      <td>110.4384</td>\n",
       "      <td>Mstablizers</td>\n",
       "      <td>mild</td>\n",
       "      <td>0.013000</td>\n",
       "      <td>CityLimits</td>\n",
       "      <td>Tier 3</td>\n",
       "      <td>Medium</td>\n",
       "      <td>3069.1520</td>\n",
       "      <td>34</td>\n",
       "      <td>8.029482</td>\n",
       "    </tr>\n",
       "    <tr>\n",
       "      <th>2</th>\n",
       "      <td>LJC15</td>\n",
       "      <td>Area046</td>\n",
       "      <td>259.4092</td>\n",
       "      <td>Cardiac</td>\n",
       "      <td>mild</td>\n",
       "      <td>0.060783</td>\n",
       "      <td>DownTown</td>\n",
       "      <td>Tier 1</td>\n",
       "      <td>Small</td>\n",
       "      <td>2603.0920</td>\n",
       "      <td>22</td>\n",
       "      <td>7.864839</td>\n",
       "    </tr>\n",
       "    <tr>\n",
       "      <th>3</th>\n",
       "      <td>GWC40</td>\n",
       "      <td>Area046</td>\n",
       "      <td>99.9830</td>\n",
       "      <td>OralContraceptives</td>\n",
       "      <td>mild</td>\n",
       "      <td>0.065555</td>\n",
       "      <td>DownTown</td>\n",
       "      <td>Tier 1</td>\n",
       "      <td>Small</td>\n",
       "      <td>1101.7130</td>\n",
       "      <td>22</td>\n",
       "      <td>7.005529</td>\n",
       "    </tr>\n",
       "    <tr>\n",
       "      <th>4</th>\n",
       "      <td>QMN13</td>\n",
       "      <td>Area019</td>\n",
       "      <td>56.4402</td>\n",
       "      <td>Hreplacements</td>\n",
       "      <td>critical</td>\n",
       "      <td>0.248859</td>\n",
       "      <td>MidTownResidential</td>\n",
       "      <td>Tier 1</td>\n",
       "      <td>Small</td>\n",
       "      <td>158.9402</td>\n",
       "      <td>34</td>\n",
       "      <td>5.074800</td>\n",
       "    </tr>\n",
       "  </tbody>\n",
       "</table>\n",
       "</div>"
      ],
      "text/plain": [
       "  Medicine_ID DistArea_ID  Medicine_MRP       Medicine_Type SidEffect_Level  \\\n",
       "0       RRA15     Area046      160.2366        Antimalarial        critical   \n",
       "1       YVV26     Area027      110.4384         Mstablizers            mild   \n",
       "2       LJC15     Area046      259.4092             Cardiac            mild   \n",
       "3       GWC40     Area046       99.9830  OralContraceptives            mild   \n",
       "4       QMN13     Area019       56.4402       Hreplacements        critical   \n",
       "\n",
       "   Availability_rating           Area_Type Area_City_Type Area_dist_level  \\\n",
       "0             0.070422            DownTown         Tier 1           Small   \n",
       "1             0.013000          CityLimits         Tier 3          Medium   \n",
       "2             0.060783            DownTown         Tier 1           Small   \n",
       "3             0.065555            DownTown         Tier 1           Small   \n",
       "4             0.248859  MidTownResidential         Tier 1           Small   \n",
       "\n",
       "   Counterfeit_Sales  active from c_d  Counterfeit_Sales_l  \n",
       "0          1775.5026               22             7.482402  \n",
       "1          3069.1520               34             8.029482  \n",
       "2          2603.0920               22             7.864839  \n",
       "3          1101.7130               22             7.005529  \n",
       "4           158.9402               34             5.074800  "
      ]
     },
     "execution_count": 24,
     "metadata": {},
     "output_type": "execute_result"
    }
   ],
   "source": [
    "train.head()"
   ]
  },
  {
   "cell_type": "code",
   "execution_count": 25,
   "metadata": {},
   "outputs": [
    {
     "data": {
      "text/plain": [
       "Area017    760\n",
       "Area046    749\n",
       "Area013    749\n",
       "Area035    748\n",
       "Area049    739\n",
       "Area045    736\n",
       "Area027    733\n",
       "Area018    729\n",
       "Area010    442\n",
       "Area019    431\n",
       "Name: DistArea_ID, dtype: int64"
      ]
     },
     "execution_count": 25,
     "metadata": {},
     "output_type": "execute_result"
    }
   ],
   "source": [
    "train.DistArea_ID.value_counts()"
   ]
  },
  {
   "cell_type": "code",
   "execution_count": 26,
   "metadata": {},
   "outputs": [
    {
     "data": {
      "text/plain": [
       "Hreplacements         976\n",
       "Antibiotics           969\n",
       "Antiseptics           723\n",
       "OralContraceptives    694\n",
       "Antipyretics          536\n",
       "Cardiac               522\n",
       "Mstablizers           514\n",
       "Tranquilizers         420\n",
       "Analgesics            356\n",
       "Antimalarial          339\n",
       "Antacids              206\n",
       "Statins               167\n",
       "MuscleRelaxants       139\n",
       "Antifungal            111\n",
       "Stimulants             95\n",
       "Antiviral              49\n",
       "Name: Medicine_Type, dtype: int64"
      ]
     },
     "execution_count": 26,
     "metadata": {},
     "output_type": "execute_result"
    }
   ],
   "source": [
    "train.Medicine_Type.value_counts()"
   ]
  },
  {
   "cell_type": "code",
   "execution_count": 27,
   "metadata": {},
   "outputs": [
    {
     "data": {
      "text/plain": [
       "mild        4433\n",
       "critical    2383\n",
       "Name: SidEffect_Level, dtype: int64"
      ]
     },
     "execution_count": 27,
     "metadata": {},
     "output_type": "execute_result"
    }
   ],
   "source": [
    "train.SidEffect_Level.value_counts()"
   ]
  },
  {
   "cell_type": "code",
   "execution_count": 28,
   "metadata": {},
   "outputs": [
    {
     "data": {
      "text/plain": [
       "DownTown              4481\n",
       "MidTownResidential     873\n",
       "CityLimits             733\n",
       "Industrial             729\n",
       "Name: Area_Type, dtype: int64"
      ]
     },
     "execution_count": 28,
     "metadata": {},
     "output_type": "execute_result"
    }
   ],
   "source": [
    "train.Area_Type.value_counts()"
   ]
  },
  {
   "cell_type": "code",
   "execution_count": 29,
   "metadata": {},
   "outputs": [
    {
     "data": {
      "text/plain": [
       "Tier 3    2653\n",
       "Tier 2    2244\n",
       "Tier 1    1919\n",
       "Name: Area_City_Type, dtype: int64"
      ]
     },
     "execution_count": 29,
     "metadata": {},
     "output_type": "execute_result"
    }
   ],
   "source": [
    "train.Area_City_Type.value_counts()"
   ]
  },
  {
   "cell_type": "code",
   "execution_count": 30,
   "metadata": {},
   "outputs": [
    {
     "data": {
      "text/plain": [
       "Medium     2201\n",
       "Unknown    1938\n",
       "Small      1928\n",
       "High        749\n",
       "Name: Area_dist_level, dtype: int64"
      ]
     },
     "execution_count": 30,
     "metadata": {},
     "output_type": "execute_result"
    }
   ],
   "source": [
    "train.Area_dist_level.value_counts()"
   ]
  },
  {
   "cell_type": "code",
   "execution_count": 31,
   "metadata": {
    "collapsed": true
   },
   "outputs": [],
   "source": [
    "#sinse we have lot of data for dist area and \n",
    "from sklearn.preprocessing import LabelEncoder\n",
    "\n",
    "for c in ['DistArea_ID', 'Medicine_Type']:\n",
    "    lbl=LabelEncoder()\n",
    "    lbl.fit(list(train[c].values))\n",
    "    train[c] = lbl.transform(list(train[c].values))\n",
    "    \n",
    "\n"
   ]
  },
  {
   "cell_type": "code",
   "execution_count": 32,
   "metadata": {},
   "outputs": [
    {
     "data": {
      "text/plain": [
       "(6816, 12)"
      ]
     },
     "execution_count": 32,
     "metadata": {},
     "output_type": "execute_result"
    }
   ],
   "source": [
    "train.shape"
   ]
  },
  {
   "cell_type": "code",
   "execution_count": 33,
   "metadata": {},
   "outputs": [
    {
     "data": {
      "text/plain": [
       "9     976\n",
       "2     969\n",
       "6     723\n",
       "12    694\n",
       "5     536\n",
       "8     522\n",
       "10    514\n",
       "15    420\n",
       "0     356\n",
       "4     339\n",
       "1     206\n",
       "13    167\n",
       "11    139\n",
       "3     111\n",
       "14     95\n",
       "7      49\n",
       "Name: Medicine_Type, dtype: int64"
      ]
     },
     "execution_count": 33,
     "metadata": {},
     "output_type": "execute_result"
    }
   ],
   "source": [
    "train.Medicine_Type.value_counts()"
   ]
  },
  {
   "cell_type": "code",
   "execution_count": 34,
   "metadata": {
    "collapsed": true
   },
   "outputs": [],
   "source": [
    "train['mild']=np.where(train['SidEffect_Level']=='mild',1,0)"
   ]
  },
  {
   "cell_type": "code",
   "execution_count": 35,
   "metadata": {
    "collapsed": true
   },
   "outputs": [],
   "source": [
    "train=train.drop(['SidEffect_Level'],1)"
   ]
  },
  {
   "cell_type": "code",
   "execution_count": 36,
   "metadata": {
    "collapsed": true
   },
   "outputs": [],
   "source": [
    "d1=pd.get_dummies(train['Area_Type'])\n",
    "d1=d1.drop(['Industrial'],1)"
   ]
  },
  {
   "cell_type": "code",
   "execution_count": 37,
   "metadata": {
    "collapsed": true
   },
   "outputs": [],
   "source": [
    "train=pd.concat([train,d1],1)"
   ]
  },
  {
   "cell_type": "code",
   "execution_count": 38,
   "metadata": {},
   "outputs": [
    {
     "data": {
      "text/html": [
       "<div>\n",
       "<style>\n",
       "    .dataframe thead tr:only-child th {\n",
       "        text-align: right;\n",
       "    }\n",
       "\n",
       "    .dataframe thead th {\n",
       "        text-align: left;\n",
       "    }\n",
       "\n",
       "    .dataframe tbody tr th {\n",
       "        vertical-align: top;\n",
       "    }\n",
       "</style>\n",
       "<table border=\"1\" class=\"dataframe\">\n",
       "  <thead>\n",
       "    <tr style=\"text-align: right;\">\n",
       "      <th></th>\n",
       "      <th>act_Tier 1</th>\n",
       "      <th>act_Tier 2</th>\n",
       "      <th>act_Tier 3</th>\n",
       "    </tr>\n",
       "  </thead>\n",
       "  <tbody>\n",
       "    <tr>\n",
       "      <th>0</th>\n",
       "      <td>1</td>\n",
       "      <td>0</td>\n",
       "      <td>0</td>\n",
       "    </tr>\n",
       "    <tr>\n",
       "      <th>1</th>\n",
       "      <td>0</td>\n",
       "      <td>0</td>\n",
       "      <td>1</td>\n",
       "    </tr>\n",
       "    <tr>\n",
       "      <th>2</th>\n",
       "      <td>1</td>\n",
       "      <td>0</td>\n",
       "      <td>0</td>\n",
       "    </tr>\n",
       "    <tr>\n",
       "      <th>3</th>\n",
       "      <td>1</td>\n",
       "      <td>0</td>\n",
       "      <td>0</td>\n",
       "    </tr>\n",
       "    <tr>\n",
       "      <th>4</th>\n",
       "      <td>1</td>\n",
       "      <td>0</td>\n",
       "      <td>0</td>\n",
       "    </tr>\n",
       "  </tbody>\n",
       "</table>\n",
       "</div>"
      ],
      "text/plain": [
       "   act_Tier 1  act_Tier 2  act_Tier 3\n",
       "0           1           0           0\n",
       "1           0           0           1\n",
       "2           1           0           0\n",
       "3           1           0           0\n",
       "4           1           0           0"
      ]
     },
     "execution_count": 38,
     "metadata": {},
     "output_type": "execute_result"
    }
   ],
   "source": [
    "d1=pd.get_dummies(train['Area_City_Type'],prefix='act')\n",
    "d1.head()"
   ]
  },
  {
   "cell_type": "code",
   "execution_count": 39,
   "metadata": {
    "collapsed": true
   },
   "outputs": [],
   "source": [
    "d1=d1.drop(['act_Tier 1'],1)\n"
   ]
  },
  {
   "cell_type": "code",
   "execution_count": 40,
   "metadata": {
    "collapsed": true
   },
   "outputs": [],
   "source": [
    "train=pd.concat([train,d1],1)"
   ]
  },
  {
   "cell_type": "code",
   "execution_count": 41,
   "metadata": {
    "collapsed": true
   },
   "outputs": [],
   "source": [
    "#d1=pd.get_dummies(train['Area_dist_level'], prefix ='adl')"
   ]
  },
  {
   "cell_type": "code",
   "execution_count": 42,
   "metadata": {
    "collapsed": true
   },
   "outputs": [],
   "source": [
    "#d1.head()"
   ]
  },
  {
   "cell_type": "code",
   "execution_count": 43,
   "metadata": {
    "collapsed": true
   },
   "outputs": [],
   "source": [
    "#d1=d1.drop(['adl_High'],1)"
   ]
  },
  {
   "cell_type": "code",
   "execution_count": 44,
   "metadata": {
    "collapsed": true
   },
   "outputs": [],
   "source": [
    "#train=pd.concat([train,d1],1)"
   ]
  },
  {
   "cell_type": "code",
   "execution_count": 45,
   "metadata": {},
   "outputs": [
    {
     "data": {
      "text/html": [
       "<div>\n",
       "<style>\n",
       "    .dataframe thead tr:only-child th {\n",
       "        text-align: right;\n",
       "    }\n",
       "\n",
       "    .dataframe thead th {\n",
       "        text-align: left;\n",
       "    }\n",
       "\n",
       "    .dataframe tbody tr th {\n",
       "        vertical-align: top;\n",
       "    }\n",
       "</style>\n",
       "<table border=\"1\" class=\"dataframe\">\n",
       "  <thead>\n",
       "    <tr style=\"text-align: right;\">\n",
       "      <th></th>\n",
       "      <th>Medicine_ID</th>\n",
       "      <th>DistArea_ID</th>\n",
       "      <th>Medicine_MRP</th>\n",
       "      <th>Medicine_Type</th>\n",
       "      <th>Availability_rating</th>\n",
       "      <th>Area_Type</th>\n",
       "      <th>Area_City_Type</th>\n",
       "      <th>Area_dist_level</th>\n",
       "      <th>Counterfeit_Sales</th>\n",
       "      <th>active from c_d</th>\n",
       "      <th>Counterfeit_Sales_l</th>\n",
       "      <th>mild</th>\n",
       "      <th>CityLimits</th>\n",
       "      <th>DownTown</th>\n",
       "      <th>MidTownResidential</th>\n",
       "      <th>act_Tier 2</th>\n",
       "      <th>act_Tier 3</th>\n",
       "    </tr>\n",
       "  </thead>\n",
       "  <tbody>\n",
       "    <tr>\n",
       "      <th>0</th>\n",
       "      <td>RRA15</td>\n",
       "      <td>8</td>\n",
       "      <td>160.2366</td>\n",
       "      <td>4</td>\n",
       "      <td>0.070422</td>\n",
       "      <td>DownTown</td>\n",
       "      <td>Tier 1</td>\n",
       "      <td>Small</td>\n",
       "      <td>1775.5026</td>\n",
       "      <td>22</td>\n",
       "      <td>7.482402</td>\n",
       "      <td>0</td>\n",
       "      <td>0</td>\n",
       "      <td>1</td>\n",
       "      <td>0</td>\n",
       "      <td>0</td>\n",
       "      <td>0</td>\n",
       "    </tr>\n",
       "    <tr>\n",
       "      <th>1</th>\n",
       "      <td>YVV26</td>\n",
       "      <td>5</td>\n",
       "      <td>110.4384</td>\n",
       "      <td>10</td>\n",
       "      <td>0.013000</td>\n",
       "      <td>CityLimits</td>\n",
       "      <td>Tier 3</td>\n",
       "      <td>Medium</td>\n",
       "      <td>3069.1520</td>\n",
       "      <td>34</td>\n",
       "      <td>8.029482</td>\n",
       "      <td>1</td>\n",
       "      <td>1</td>\n",
       "      <td>0</td>\n",
       "      <td>0</td>\n",
       "      <td>0</td>\n",
       "      <td>1</td>\n",
       "    </tr>\n",
       "    <tr>\n",
       "      <th>2</th>\n",
       "      <td>LJC15</td>\n",
       "      <td>8</td>\n",
       "      <td>259.4092</td>\n",
       "      <td>8</td>\n",
       "      <td>0.060783</td>\n",
       "      <td>DownTown</td>\n",
       "      <td>Tier 1</td>\n",
       "      <td>Small</td>\n",
       "      <td>2603.0920</td>\n",
       "      <td>22</td>\n",
       "      <td>7.864839</td>\n",
       "      <td>1</td>\n",
       "      <td>0</td>\n",
       "      <td>1</td>\n",
       "      <td>0</td>\n",
       "      <td>0</td>\n",
       "      <td>0</td>\n",
       "    </tr>\n",
       "    <tr>\n",
       "      <th>3</th>\n",
       "      <td>GWC40</td>\n",
       "      <td>8</td>\n",
       "      <td>99.9830</td>\n",
       "      <td>12</td>\n",
       "      <td>0.065555</td>\n",
       "      <td>DownTown</td>\n",
       "      <td>Tier 1</td>\n",
       "      <td>Small</td>\n",
       "      <td>1101.7130</td>\n",
       "      <td>22</td>\n",
       "      <td>7.005529</td>\n",
       "      <td>1</td>\n",
       "      <td>0</td>\n",
       "      <td>1</td>\n",
       "      <td>0</td>\n",
       "      <td>0</td>\n",
       "      <td>0</td>\n",
       "    </tr>\n",
       "    <tr>\n",
       "      <th>4</th>\n",
       "      <td>QMN13</td>\n",
       "      <td>4</td>\n",
       "      <td>56.4402</td>\n",
       "      <td>9</td>\n",
       "      <td>0.248859</td>\n",
       "      <td>MidTownResidential</td>\n",
       "      <td>Tier 1</td>\n",
       "      <td>Small</td>\n",
       "      <td>158.9402</td>\n",
       "      <td>34</td>\n",
       "      <td>5.074800</td>\n",
       "      <td>0</td>\n",
       "      <td>0</td>\n",
       "      <td>0</td>\n",
       "      <td>1</td>\n",
       "      <td>0</td>\n",
       "      <td>0</td>\n",
       "    </tr>\n",
       "  </tbody>\n",
       "</table>\n",
       "</div>"
      ],
      "text/plain": [
       "  Medicine_ID  DistArea_ID  Medicine_MRP  Medicine_Type  Availability_rating  \\\n",
       "0       RRA15            8      160.2366              4             0.070422   \n",
       "1       YVV26            5      110.4384             10             0.013000   \n",
       "2       LJC15            8      259.4092              8             0.060783   \n",
       "3       GWC40            8       99.9830             12             0.065555   \n",
       "4       QMN13            4       56.4402              9             0.248859   \n",
       "\n",
       "            Area_Type Area_City_Type Area_dist_level  Counterfeit_Sales  \\\n",
       "0            DownTown         Tier 1           Small          1775.5026   \n",
       "1          CityLimits         Tier 3          Medium          3069.1520   \n",
       "2            DownTown         Tier 1           Small          2603.0920   \n",
       "3            DownTown         Tier 1           Small          1101.7130   \n",
       "4  MidTownResidential         Tier 1           Small           158.9402   \n",
       "\n",
       "   active from c_d  Counterfeit_Sales_l  mild  CityLimits  DownTown  \\\n",
       "0               22             7.482402     0           0         1   \n",
       "1               34             8.029482     1           1         0   \n",
       "2               22             7.864839     1           0         1   \n",
       "3               22             7.005529     1           0         1   \n",
       "4               34             5.074800     0           0         0   \n",
       "\n",
       "   MidTownResidential  act_Tier 2  act_Tier 3  \n",
       "0                   0           0           0  \n",
       "1                   0           0           1  \n",
       "2                   0           0           0  \n",
       "3                   0           0           0  \n",
       "4                   1           0           0  "
      ]
     },
     "execution_count": 45,
     "metadata": {},
     "output_type": "execute_result"
    }
   ],
   "source": [
    "train.head()"
   ]
  },
  {
   "cell_type": "code",
   "execution_count": 46,
   "metadata": {
    "collapsed": true
   },
   "outputs": [],
   "source": [
    "train=train.drop(['Area_Type','Area_dist_level','Area_City_Type'],1)"
   ]
  },
  {
   "cell_type": "code",
   "execution_count": 47,
   "metadata": {},
   "outputs": [
    {
     "data": {
      "text/html": [
       "<div>\n",
       "<style>\n",
       "    .dataframe thead tr:only-child th {\n",
       "        text-align: right;\n",
       "    }\n",
       "\n",
       "    .dataframe thead th {\n",
       "        text-align: left;\n",
       "    }\n",
       "\n",
       "    .dataframe tbody tr th {\n",
       "        vertical-align: top;\n",
       "    }\n",
       "</style>\n",
       "<table border=\"1\" class=\"dataframe\">\n",
       "  <thead>\n",
       "    <tr style=\"text-align: right;\">\n",
       "      <th></th>\n",
       "      <th>Medicine_ID</th>\n",
       "      <th>DistArea_ID</th>\n",
       "      <th>Medicine_MRP</th>\n",
       "      <th>Medicine_Type</th>\n",
       "      <th>Availability_rating</th>\n",
       "      <th>Counterfeit_Sales</th>\n",
       "      <th>active from c_d</th>\n",
       "      <th>Counterfeit_Sales_l</th>\n",
       "      <th>mild</th>\n",
       "      <th>CityLimits</th>\n",
       "      <th>DownTown</th>\n",
       "      <th>MidTownResidential</th>\n",
       "      <th>act_Tier 2</th>\n",
       "      <th>act_Tier 3</th>\n",
       "    </tr>\n",
       "  </thead>\n",
       "  <tbody>\n",
       "    <tr>\n",
       "      <th>0</th>\n",
       "      <td>RRA15</td>\n",
       "      <td>8</td>\n",
       "      <td>160.2366</td>\n",
       "      <td>4</td>\n",
       "      <td>0.070422</td>\n",
       "      <td>1775.5026</td>\n",
       "      <td>22</td>\n",
       "      <td>7.482402</td>\n",
       "      <td>0</td>\n",
       "      <td>0</td>\n",
       "      <td>1</td>\n",
       "      <td>0</td>\n",
       "      <td>0</td>\n",
       "      <td>0</td>\n",
       "    </tr>\n",
       "    <tr>\n",
       "      <th>1</th>\n",
       "      <td>YVV26</td>\n",
       "      <td>5</td>\n",
       "      <td>110.4384</td>\n",
       "      <td>10</td>\n",
       "      <td>0.013000</td>\n",
       "      <td>3069.1520</td>\n",
       "      <td>34</td>\n",
       "      <td>8.029482</td>\n",
       "      <td>1</td>\n",
       "      <td>1</td>\n",
       "      <td>0</td>\n",
       "      <td>0</td>\n",
       "      <td>0</td>\n",
       "      <td>1</td>\n",
       "    </tr>\n",
       "    <tr>\n",
       "      <th>2</th>\n",
       "      <td>LJC15</td>\n",
       "      <td>8</td>\n",
       "      <td>259.4092</td>\n",
       "      <td>8</td>\n",
       "      <td>0.060783</td>\n",
       "      <td>2603.0920</td>\n",
       "      <td>22</td>\n",
       "      <td>7.864839</td>\n",
       "      <td>1</td>\n",
       "      <td>0</td>\n",
       "      <td>1</td>\n",
       "      <td>0</td>\n",
       "      <td>0</td>\n",
       "      <td>0</td>\n",
       "    </tr>\n",
       "    <tr>\n",
       "      <th>3</th>\n",
       "      <td>GWC40</td>\n",
       "      <td>8</td>\n",
       "      <td>99.9830</td>\n",
       "      <td>12</td>\n",
       "      <td>0.065555</td>\n",
       "      <td>1101.7130</td>\n",
       "      <td>22</td>\n",
       "      <td>7.005529</td>\n",
       "      <td>1</td>\n",
       "      <td>0</td>\n",
       "      <td>1</td>\n",
       "      <td>0</td>\n",
       "      <td>0</td>\n",
       "      <td>0</td>\n",
       "    </tr>\n",
       "    <tr>\n",
       "      <th>4</th>\n",
       "      <td>QMN13</td>\n",
       "      <td>4</td>\n",
       "      <td>56.4402</td>\n",
       "      <td>9</td>\n",
       "      <td>0.248859</td>\n",
       "      <td>158.9402</td>\n",
       "      <td>34</td>\n",
       "      <td>5.074800</td>\n",
       "      <td>0</td>\n",
       "      <td>0</td>\n",
       "      <td>0</td>\n",
       "      <td>1</td>\n",
       "      <td>0</td>\n",
       "      <td>0</td>\n",
       "    </tr>\n",
       "  </tbody>\n",
       "</table>\n",
       "</div>"
      ],
      "text/plain": [
       "  Medicine_ID  DistArea_ID  Medicine_MRP  Medicine_Type  Availability_rating  \\\n",
       "0       RRA15            8      160.2366              4             0.070422   \n",
       "1       YVV26            5      110.4384             10             0.013000   \n",
       "2       LJC15            8      259.4092              8             0.060783   \n",
       "3       GWC40            8       99.9830             12             0.065555   \n",
       "4       QMN13            4       56.4402              9             0.248859   \n",
       "\n",
       "   Counterfeit_Sales  active from c_d  Counterfeit_Sales_l  mild  CityLimits  \\\n",
       "0          1775.5026               22             7.482402     0           0   \n",
       "1          3069.1520               34             8.029482     1           1   \n",
       "2          2603.0920               22             7.864839     1           0   \n",
       "3          1101.7130               22             7.005529     1           0   \n",
       "4           158.9402               34             5.074800     0           0   \n",
       "\n",
       "   DownTown  MidTownResidential  act_Tier 2  act_Tier 3  \n",
       "0         1                   0           0           0  \n",
       "1         0                   0           0           1  \n",
       "2         1                   0           0           0  \n",
       "3         1                   0           0           0  \n",
       "4         0                   1           0           0  "
      ]
     },
     "execution_count": 47,
     "metadata": {},
     "output_type": "execute_result"
    }
   ],
   "source": [
    "train.head()"
   ]
  },
  {
   "cell_type": "code",
   "execution_count": 48,
   "metadata": {
    "collapsed": true
   },
   "outputs": [],
   "source": [
    "numeric_feats = train.dtypes[train.dtypes != \"object\"].index"
   ]
  },
  {
   "cell_type": "code",
   "execution_count": 49,
   "metadata": {
    "collapsed": true
   },
   "outputs": [],
   "source": [
    "skewed_feats = train[numeric_feats].apply(lambda x: skew(x.dropna())).sort_values(ascending=False)"
   ]
  },
  {
   "cell_type": "code",
   "execution_count": 50,
   "metadata": {},
   "outputs": [
    {
     "data": {
      "text/plain": [
       "CityLimits             2.533628\n",
       "MidTownResidential     2.225861\n",
       "Availability_rating    1.160912\n",
       "Counterfeit_Sales      1.136890\n",
       "act_Tier 2             0.726806\n",
       "act_Tier 3             0.454365\n",
       "active from c_d        0.398869\n",
       "Medicine_MRP           0.123629\n",
       "Medicine_Type          0.049028\n",
       "DistArea_ID           -0.054333\n",
       "Counterfeit_Sales_l   -0.556796\n",
       "mild                  -0.630729\n",
       "DownTown              -0.663436\n",
       "dtype: float64"
      ]
     },
     "execution_count": 50,
     "metadata": {},
     "output_type": "execute_result"
    }
   ],
   "source": [
    "skewed_feats"
   ]
  },
  {
   "cell_type": "code",
   "execution_count": 51,
   "metadata": {},
   "outputs": [
    {
     "name": "stdout",
     "output_type": "stream",
     "text": [
      "\n",
      "Skew in numerical features: \n",
      "\n"
     ]
    },
    {
     "data": {
      "text/html": [
       "<div>\n",
       "<style>\n",
       "    .dataframe thead tr:only-child th {\n",
       "        text-align: right;\n",
       "    }\n",
       "\n",
       "    .dataframe thead th {\n",
       "        text-align: left;\n",
       "    }\n",
       "\n",
       "    .dataframe tbody tr th {\n",
       "        vertical-align: top;\n",
       "    }\n",
       "</style>\n",
       "<table border=\"1\" class=\"dataframe\">\n",
       "  <thead>\n",
       "    <tr style=\"text-align: right;\">\n",
       "      <th></th>\n",
       "      <th>Skew</th>\n",
       "    </tr>\n",
       "  </thead>\n",
       "  <tbody>\n",
       "    <tr>\n",
       "      <th>CityLimits</th>\n",
       "      <td>2.533628</td>\n",
       "    </tr>\n",
       "    <tr>\n",
       "      <th>MidTownResidential</th>\n",
       "      <td>2.225861</td>\n",
       "    </tr>\n",
       "    <tr>\n",
       "      <th>Availability_rating</th>\n",
       "      <td>1.160912</td>\n",
       "    </tr>\n",
       "    <tr>\n",
       "      <th>Counterfeit_Sales</th>\n",
       "      <td>1.136890</td>\n",
       "    </tr>\n",
       "    <tr>\n",
       "      <th>act_Tier 2</th>\n",
       "      <td>0.726806</td>\n",
       "    </tr>\n",
       "    <tr>\n",
       "      <th>act_Tier 3</th>\n",
       "      <td>0.454365</td>\n",
       "    </tr>\n",
       "    <tr>\n",
       "      <th>active from c_d</th>\n",
       "      <td>0.398869</td>\n",
       "    </tr>\n",
       "    <tr>\n",
       "      <th>Medicine_MRP</th>\n",
       "      <td>0.123629</td>\n",
       "    </tr>\n",
       "    <tr>\n",
       "      <th>Medicine_Type</th>\n",
       "      <td>0.049028</td>\n",
       "    </tr>\n",
       "    <tr>\n",
       "      <th>DistArea_ID</th>\n",
       "      <td>-0.054333</td>\n",
       "    </tr>\n",
       "  </tbody>\n",
       "</table>\n",
       "</div>"
      ],
      "text/plain": [
       "                         Skew\n",
       "CityLimits           2.533628\n",
       "MidTownResidential   2.225861\n",
       "Availability_rating  1.160912\n",
       "Counterfeit_Sales    1.136890\n",
       "act_Tier 2           0.726806\n",
       "act_Tier 3           0.454365\n",
       "active from c_d      0.398869\n",
       "Medicine_MRP         0.123629\n",
       "Medicine_Type        0.049028\n",
       "DistArea_ID         -0.054333"
      ]
     },
     "execution_count": 51,
     "metadata": {},
     "output_type": "execute_result"
    }
   ],
   "source": [
    "print(\"\\nSkew in numerical features: \\n\")\n",
    "skewness = pd.DataFrame({'Skew' :skewed_feats})\n",
    "skewness.head(10)"
   ]
  },
  {
   "cell_type": "code",
   "execution_count": 52,
   "metadata": {},
   "outputs": [
    {
     "data": {
      "text/html": [
       "<div>\n",
       "<style>\n",
       "    .dataframe thead tr:only-child th {\n",
       "        text-align: right;\n",
       "    }\n",
       "\n",
       "    .dataframe thead th {\n",
       "        text-align: left;\n",
       "    }\n",
       "\n",
       "    .dataframe tbody tr th {\n",
       "        vertical-align: top;\n",
       "    }\n",
       "</style>\n",
       "<table border=\"1\" class=\"dataframe\">\n",
       "  <thead>\n",
       "    <tr style=\"text-align: right;\">\n",
       "      <th></th>\n",
       "      <th>Medicine_ID</th>\n",
       "      <th>DistArea_ID</th>\n",
       "      <th>Medicine_MRP</th>\n",
       "      <th>Medicine_Type</th>\n",
       "      <th>Availability_rating</th>\n",
       "      <th>Counterfeit_Sales</th>\n",
       "      <th>active from c_d</th>\n",
       "      <th>Counterfeit_Sales_l</th>\n",
       "      <th>mild</th>\n",
       "      <th>CityLimits</th>\n",
       "      <th>DownTown</th>\n",
       "      <th>MidTownResidential</th>\n",
       "      <th>act_Tier 2</th>\n",
       "      <th>act_Tier 3</th>\n",
       "    </tr>\n",
       "  </thead>\n",
       "  <tbody>\n",
       "    <tr>\n",
       "      <th>0</th>\n",
       "      <td>RRA15</td>\n",
       "      <td>8</td>\n",
       "      <td>160.2366</td>\n",
       "      <td>4</td>\n",
       "      <td>0.070422</td>\n",
       "      <td>1775.5026</td>\n",
       "      <td>22</td>\n",
       "      <td>7.482402</td>\n",
       "      <td>0</td>\n",
       "      <td>0</td>\n",
       "      <td>1</td>\n",
       "      <td>0</td>\n",
       "      <td>0</td>\n",
       "      <td>0</td>\n",
       "    </tr>\n",
       "    <tr>\n",
       "      <th>1</th>\n",
       "      <td>YVV26</td>\n",
       "      <td>5</td>\n",
       "      <td>110.4384</td>\n",
       "      <td>10</td>\n",
       "      <td>0.013000</td>\n",
       "      <td>3069.1520</td>\n",
       "      <td>34</td>\n",
       "      <td>8.029482</td>\n",
       "      <td>1</td>\n",
       "      <td>1</td>\n",
       "      <td>0</td>\n",
       "      <td>0</td>\n",
       "      <td>0</td>\n",
       "      <td>1</td>\n",
       "    </tr>\n",
       "    <tr>\n",
       "      <th>2</th>\n",
       "      <td>LJC15</td>\n",
       "      <td>8</td>\n",
       "      <td>259.4092</td>\n",
       "      <td>8</td>\n",
       "      <td>0.060783</td>\n",
       "      <td>2603.0920</td>\n",
       "      <td>22</td>\n",
       "      <td>7.864839</td>\n",
       "      <td>1</td>\n",
       "      <td>0</td>\n",
       "      <td>1</td>\n",
       "      <td>0</td>\n",
       "      <td>0</td>\n",
       "      <td>0</td>\n",
       "    </tr>\n",
       "    <tr>\n",
       "      <th>3</th>\n",
       "      <td>GWC40</td>\n",
       "      <td>8</td>\n",
       "      <td>99.9830</td>\n",
       "      <td>12</td>\n",
       "      <td>0.065555</td>\n",
       "      <td>1101.7130</td>\n",
       "      <td>22</td>\n",
       "      <td>7.005529</td>\n",
       "      <td>1</td>\n",
       "      <td>0</td>\n",
       "      <td>1</td>\n",
       "      <td>0</td>\n",
       "      <td>0</td>\n",
       "      <td>0</td>\n",
       "    </tr>\n",
       "    <tr>\n",
       "      <th>4</th>\n",
       "      <td>QMN13</td>\n",
       "      <td>4</td>\n",
       "      <td>56.4402</td>\n",
       "      <td>9</td>\n",
       "      <td>0.248859</td>\n",
       "      <td>158.9402</td>\n",
       "      <td>34</td>\n",
       "      <td>5.074800</td>\n",
       "      <td>0</td>\n",
       "      <td>0</td>\n",
       "      <td>0</td>\n",
       "      <td>1</td>\n",
       "      <td>0</td>\n",
       "      <td>0</td>\n",
       "    </tr>\n",
       "  </tbody>\n",
       "</table>\n",
       "</div>"
      ],
      "text/plain": [
       "  Medicine_ID  DistArea_ID  Medicine_MRP  Medicine_Type  Availability_rating  \\\n",
       "0       RRA15            8      160.2366              4             0.070422   \n",
       "1       YVV26            5      110.4384             10             0.013000   \n",
       "2       LJC15            8      259.4092              8             0.060783   \n",
       "3       GWC40            8       99.9830             12             0.065555   \n",
       "4       QMN13            4       56.4402              9             0.248859   \n",
       "\n",
       "   Counterfeit_Sales  active from c_d  Counterfeit_Sales_l  mild  CityLimits  \\\n",
       "0          1775.5026               22             7.482402     0           0   \n",
       "1          3069.1520               34             8.029482     1           1   \n",
       "2          2603.0920               22             7.864839     1           0   \n",
       "3          1101.7130               22             7.005529     1           0   \n",
       "4           158.9402               34             5.074800     0           0   \n",
       "\n",
       "   DownTown  MidTownResidential  act_Tier 2  act_Tier 3  \n",
       "0         1                   0           0           0  \n",
       "1         0                   0           0           1  \n",
       "2         1                   0           0           0  \n",
       "3         1                   0           0           0  \n",
       "4         0                   1           0           0  "
      ]
     },
     "execution_count": 52,
     "metadata": {},
     "output_type": "execute_result"
    }
   ],
   "source": [
    "train.head()"
   ]
  },
  {
   "cell_type": "code",
   "execution_count": 53,
   "metadata": {},
   "outputs": [],
   "source": [
    "y_trainnl=train.Counterfeit_Sales.values\n",
    "y_train = train.Counterfeit_Sales_l.values\n"
   ]
  },
  {
   "cell_type": "code",
   "execution_count": 54,
   "metadata": {
    "collapsed": true
   },
   "outputs": [],
   "source": [
    "train=train.drop(['Medicine_ID','Counterfeit_Sales','Counterfeit_Sales_l'],1)"
   ]
  },
  {
   "cell_type": "code",
   "execution_count": 55,
   "metadata": {
    "collapsed": true
   },
   "outputs": [],
   "source": [
    "#modelling part\n",
    "\n",
    "from sklearn.linear_model import ElasticNet, Lasso,  BayesianRidge, LassoLarsIC\n",
    "from sklearn.ensemble import RandomForestRegressor,  GradientBoostingRegressor\n",
    "from sklearn.kernel_ridge import KernelRidge\n",
    "from sklearn.pipeline import make_pipeline\n",
    "from sklearn.preprocessing import RobustScaler\n",
    "from sklearn.base import BaseEstimator, TransformerMixin, RegressorMixin, clone\n",
    "from sklearn.model_selection import KFold, cross_val_score, train_test_split\n",
    "from sklearn.metrics import mean_squared_error\n"
   ]
  },
  {
   "cell_type": "code",
   "execution_count": 56,
   "metadata": {
    "collapsed": true
   },
   "outputs": [],
   "source": [
    "#cross validatiuon func\n",
    "n_folds=3\n",
    "def rmsle_cv(model):\n",
    "    kf = KFold(n_folds, shuffle=True, random_state=42).get_n_splits(train.values)\n",
    "    rmse= np.sqrt(-cross_val_score(model, train.values, y_train, scoring=\"neg_mean_squared_error\", cv = kf))\n",
    "    return(rmse)\n"
   ]
  },
  {
   "cell_type": "markdown",
   "metadata": {},
   "source": [
    "LASSO Regression :\n",
    "This model may be very sensitive to outliers. So we need to made it more robust on them. For that we use the sklearn's Robustscaler() method on pipeline"
   ]
  },
  {
   "cell_type": "code",
   "execution_count": 57,
   "metadata": {
    "collapsed": true
   },
   "outputs": [],
   "source": [
    "lasso = make_pipeline(RobustScaler(), Lasso(alpha =0.0005, random_state=1))"
   ]
  },
  {
   "cell_type": "markdown",
   "metadata": {},
   "source": [
    "Elasticnet"
   ]
  },
  {
   "cell_type": "code",
   "execution_count": 58,
   "metadata": {
    "collapsed": true
   },
   "outputs": [],
   "source": [
    "ENet = make_pipeline(RobustScaler(), ElasticNet(alpha=0.0005, l1_ratio=.9, random_state=3))"
   ]
  },
  {
   "cell_type": "markdown",
   "metadata": {},
   "source": [
    "Kernel Ridge Regression :"
   ]
  },
  {
   "cell_type": "code",
   "execution_count": 59,
   "metadata": {
    "collapsed": true
   },
   "outputs": [],
   "source": [
    "KRR = KernelRidge(alpha=0.6, kernel='polynomial', degree=2, coef0=2.5)"
   ]
  },
  {
   "cell_type": "markdown",
   "metadata": {},
   "source": [
    "Gradient Boosting Regression :\n",
    "With huber loss that makes it robust to outliers"
   ]
  },
  {
   "cell_type": "code",
   "execution_count": 60,
   "metadata": {
    "collapsed": true
   },
   "outputs": [],
   "source": [
    "GBoost = GradientBoostingRegressor(n_estimators=300, learning_rate=0.05,\n",
    "                                   max_depth=4, max_features='sqrt',\n",
    "                                   min_samples_leaf=15, min_samples_split=10, \n",
    "                                   loss='huber', random_state =5)"
   ]
  },
  {
   "cell_type": "markdown",
   "metadata": {},
   "source": [
    "Running the models now "
   ]
  },
  {
   "cell_type": "code",
   "execution_count": 61,
   "metadata": {},
   "outputs": [
    {
     "name": "stdout",
     "output_type": "stream",
     "text": [
      "\n",
      "Lasso score: 0.4714 (0.0010)\n",
      "\n"
     ]
    }
   ],
   "source": [
    "score = rmsle_cv(lasso)\n",
    "print(\"\\nLasso score: {:.4f} ({:.4f})\\n\".format(score.mean(), score.std()))\n",
    "\n"
   ]
  },
  {
   "cell_type": "code",
   "execution_count": 62,
   "metadata": {},
   "outputs": [
    {
     "name": "stdout",
     "output_type": "stream",
     "text": [
      "ElasticNet score: 0.4714 (0.0010)\n",
      "\n"
     ]
    }
   ],
   "source": [
    "score = rmsle_cv(ENet)\n",
    "print(\"ElasticNet score: {:.4f} ({:.4f})\\n\".format(score.mean(), score.std()))"
   ]
  },
  {
   "cell_type": "code",
   "execution_count": 63,
   "metadata": {},
   "outputs": [
    {
     "name": "stdout",
     "output_type": "stream",
     "text": [
      "Kernel Ridge score: 0.4573 (0.0031)\n",
      "\n"
     ]
    }
   ],
   "source": [
    "score = rmsle_cv(KRR)\n",
    "print(\"Kernel Ridge score: {:.4f} ({:.4f})\\n\".format(score.mean(), score.std()))"
   ]
  },
  {
   "cell_type": "code",
   "execution_count": 64,
   "metadata": {},
   "outputs": [
    {
     "name": "stdout",
     "output_type": "stream",
     "text": [
      "Gradient Boosting score: 0.4620 (0.0019)\n",
      "\n"
     ]
    }
   ],
   "source": [
    "score = rmsle_cv(GBoost)\n",
    "print(\"Gradient Boosting score: {:.4f} ({:.4f})\\n\".format(score.mean(), score.std()))"
   ]
  },
  {
   "cell_type": "code",
   "execution_count": 65,
   "metadata": {
    "collapsed": true
   },
   "outputs": [],
   "source": [
    "class AveragingModels(BaseEstimator, RegressorMixin, TransformerMixin):\n",
    "    def __init__(self, models):\n",
    "        self.models = models\n",
    "        \n",
    "    # we define clones of the original models to fit the data in\n",
    "    def fit(self, X, y):\n",
    "        self.models_ = [clone(x) for x in self.models]\n",
    "        \n",
    "        # Train cloned base models\n",
    "        for model in self.models_:\n",
    "            model.fit(X, y)\n",
    "\n",
    "        return self\n",
    "    \n",
    "    #Now we do the predictions for cloned models and average them\n",
    "    def predict(self, X):\n",
    "        predictions = np.column_stack([\n",
    "            model.predict(X) for model in self.models_\n",
    "        ])\n",
    "        return np.mean(predictions, axis=1)   "
   ]
  },
  {
   "cell_type": "code",
   "execution_count": 66,
   "metadata": {},
   "outputs": [
    {
     "name": "stdout",
     "output_type": "stream",
     "text": [
      " Averaged base models score: 0.4597 (0.0016)\n",
      "\n"
     ]
    }
   ],
   "source": [
    "averaged_models = AveragingModels(models = (ENet, GBoost, KRR, lasso))\n",
    "\n",
    "score = rmsle_cv(averaged_models)\n",
    "print(\" Averaged base models score: {:.4f} ({:.4f})\\n\".format(score.mean(), score.std()))"
   ]
  },
  {
   "cell_type": "markdown",
   "metadata": {},
   "source": [
    "stacked model "
   ]
  },
  {
   "cell_type": "code",
   "execution_count": 67,
   "metadata": {
    "collapsed": true
   },
   "outputs": [],
   "source": [
    "class StackingAveragedModels(BaseEstimator, RegressorMixin, TransformerMixin):\n",
    "    def __init__(self, base_models, meta_model, n_folds=5):\n",
    "        self.base_models = base_models\n",
    "        self.meta_model = meta_model\n",
    "        self.n_folds = n_folds\n",
    "   \n",
    "    # We again fit the data on clones of the original models\n",
    "    def fit(self, X, y):\n",
    "        self.base_models_ = [list() for x in self.base_models]\n",
    "        self.meta_model_ = clone(self.meta_model)\n",
    "        kfold = KFold(n_splits=self.n_folds, shuffle=True, random_state=156)\n",
    "        \n",
    "        # Train cloned base models then create out-of-fold predictions\n",
    "        # that are needed to train the cloned meta-model\n",
    "        out_of_fold_predictions = np.zeros((X.shape[0], len(self.base_models)))\n",
    "        for i, model in enumerate(self.base_models):\n",
    "            for train_index, holdout_index in kfold.split(X, y):\n",
    "                instance = clone(model)\n",
    "                self.base_models_[i].append(instance)\n",
    "                instance.fit(X[train_index], y[train_index])\n",
    "                y_pred = instance.predict(X[holdout_index])\n",
    "                out_of_fold_predictions[holdout_index, i] = y_pred\n",
    "                \n",
    "        # Now train the cloned  meta-model using the out-of-fold predictions as new feature\n",
    "        self.meta_model_.fit(out_of_fold_predictions, y)\n",
    "        return self\n",
    "   \n",
    "    #Do the predictions of all base models on the test data and use the averaged predictions as \n",
    "    #meta-features for the final prediction which is done by the meta-model\n",
    "    def predict(self, X):\n",
    "        meta_features = np.column_stack([\n",
    "            np.column_stack([model.predict(X) for model in base_models]).mean(axis=1)\n",
    "            for base_models in self.base_models_ ])\n",
    "        return self.meta_model_.predict(meta_features)"
   ]
  },
  {
   "cell_type": "raw",
   "metadata": {},
   "source": [
    "Average Enet KRR and Gboost, then we add lasso as meta-model."
   ]
  },
  {
   "cell_type": "code",
   "execution_count": 68,
   "metadata": {},
   "outputs": [
    {
     "name": "stdout",
     "output_type": "stream",
     "text": [
      "Stacking Averaged models score: 0.4568 (0.0027)\n"
     ]
    }
   ],
   "source": [
    "stacked_averaged_models = StackingAveragedModels(base_models = (ENet, GBoost, KRR),\n",
    "                                                 meta_model = lasso)\n",
    "\n",
    "score = rmsle_cv(stacked_averaged_models)\n",
    "print(\"Stacking Averaged models score: {:.4f} ({:.4f})\".format(score.mean(), score.std()))"
   ]
  },
  {
   "cell_type": "code",
   "execution_count": 69,
   "metadata": {
    "collapsed": true
   },
   "outputs": [],
   "source": [
    "# now predict part needs to be done  \n",
    "test=pd.read_csv('counterfeit_test.csv')\n"
   ]
  },
  {
   "cell_type": "code",
   "execution_count": 70,
   "metadata": {},
   "outputs": [
    {
     "data": {
      "text/html": [
       "<div>\n",
       "<style>\n",
       "    .dataframe thead tr:only-child th {\n",
       "        text-align: right;\n",
       "    }\n",
       "\n",
       "    .dataframe thead th {\n",
       "        text-align: left;\n",
       "    }\n",
       "\n",
       "    .dataframe tbody tr th {\n",
       "        vertical-align: top;\n",
       "    }\n",
       "</style>\n",
       "<table border=\"1\" class=\"dataframe\">\n",
       "  <thead>\n",
       "    <tr style=\"text-align: right;\">\n",
       "      <th></th>\n",
       "      <th>DistArea_ID</th>\n",
       "      <th>Medicine_MRP</th>\n",
       "      <th>Medicine_Type</th>\n",
       "      <th>Availability_rating</th>\n",
       "      <th>active from c_d</th>\n",
       "      <th>mild</th>\n",
       "      <th>CityLimits</th>\n",
       "      <th>DownTown</th>\n",
       "      <th>MidTownResidential</th>\n",
       "      <th>act_Tier 2</th>\n",
       "      <th>act_Tier 3</th>\n",
       "    </tr>\n",
       "  </thead>\n",
       "  <tbody>\n",
       "    <tr>\n",
       "      <th>0</th>\n",
       "      <td>8</td>\n",
       "      <td>160.2366</td>\n",
       "      <td>4</td>\n",
       "      <td>0.070422</td>\n",
       "      <td>22</td>\n",
       "      <td>0</td>\n",
       "      <td>0</td>\n",
       "      <td>1</td>\n",
       "      <td>0</td>\n",
       "      <td>0</td>\n",
       "      <td>0</td>\n",
       "    </tr>\n",
       "    <tr>\n",
       "      <th>1</th>\n",
       "      <td>5</td>\n",
       "      <td>110.4384</td>\n",
       "      <td>10</td>\n",
       "      <td>0.013000</td>\n",
       "      <td>34</td>\n",
       "      <td>1</td>\n",
       "      <td>1</td>\n",
       "      <td>0</td>\n",
       "      <td>0</td>\n",
       "      <td>0</td>\n",
       "      <td>1</td>\n",
       "    </tr>\n",
       "    <tr>\n",
       "      <th>2</th>\n",
       "      <td>8</td>\n",
       "      <td>259.4092</td>\n",
       "      <td>8</td>\n",
       "      <td>0.060783</td>\n",
       "      <td>22</td>\n",
       "      <td>1</td>\n",
       "      <td>0</td>\n",
       "      <td>1</td>\n",
       "      <td>0</td>\n",
       "      <td>0</td>\n",
       "      <td>0</td>\n",
       "    </tr>\n",
       "    <tr>\n",
       "      <th>3</th>\n",
       "      <td>8</td>\n",
       "      <td>99.9830</td>\n",
       "      <td>12</td>\n",
       "      <td>0.065555</td>\n",
       "      <td>22</td>\n",
       "      <td>1</td>\n",
       "      <td>0</td>\n",
       "      <td>1</td>\n",
       "      <td>0</td>\n",
       "      <td>0</td>\n",
       "      <td>0</td>\n",
       "    </tr>\n",
       "    <tr>\n",
       "      <th>4</th>\n",
       "      <td>4</td>\n",
       "      <td>56.4402</td>\n",
       "      <td>9</td>\n",
       "      <td>0.248859</td>\n",
       "      <td>34</td>\n",
       "      <td>0</td>\n",
       "      <td>0</td>\n",
       "      <td>0</td>\n",
       "      <td>1</td>\n",
       "      <td>0</td>\n",
       "      <td>0</td>\n",
       "    </tr>\n",
       "  </tbody>\n",
       "</table>\n",
       "</div>"
      ],
      "text/plain": [
       "   DistArea_ID  Medicine_MRP  Medicine_Type  Availability_rating  \\\n",
       "0            8      160.2366              4             0.070422   \n",
       "1            5      110.4384             10             0.013000   \n",
       "2            8      259.4092              8             0.060783   \n",
       "3            8       99.9830             12             0.065555   \n",
       "4            4       56.4402              9             0.248859   \n",
       "\n",
       "   active from c_d  mild  CityLimits  DownTown  MidTownResidential  \\\n",
       "0               22     0           0         1                   0   \n",
       "1               34     1           1         0                   0   \n",
       "2               22     1           0         1                   0   \n",
       "3               22     1           0         1                   0   \n",
       "4               34     0           0         0                   1   \n",
       "\n",
       "   act_Tier 2  act_Tier 3  \n",
       "0           0           0  \n",
       "1           0           1  \n",
       "2           0           0  \n",
       "3           0           0  \n",
       "4           0           0  "
      ]
     },
     "execution_count": 70,
     "metadata": {},
     "output_type": "execute_result"
    }
   ],
   "source": [
    "train.head()"
   ]
  },
  {
   "cell_type": "code",
   "execution_count": 71,
   "metadata": {},
   "outputs": [],
   "source": [
    "testid=pd.DataFrame(test['Medicine_ID'])"
   ]
  },
  {
   "cell_type": "code",
   "execution_count": 72,
   "metadata": {
    "collapsed": true
   },
   "outputs": [],
   "source": [
    "#meancf=train['Counterfeit_Weight'].mean()"
   ]
  },
  {
   "cell_type": "code",
   "execution_count": 73,
   "metadata": {
    "collapsed": true
   },
   "outputs": [],
   "source": [
    "#train['Counterfeit_Weight']=train['Counterfeit_Weight'].fillna(train['Counterfeit_Weight'].mean())"
   ]
  },
  {
   "cell_type": "code",
   "execution_count": 74,
   "metadata": {
    "collapsed": true
   },
   "outputs": [],
   "source": [
    "test=test.drop(['Counterfeit_Weight','Medicine_ID'],1)"
   ]
  },
  {
   "cell_type": "code",
   "execution_count": 75,
   "metadata": {},
   "outputs": [],
   "source": [
    "test['active from c_d']= test['Active_Since'].apply(lambda x: now.year-x)"
   ]
  },
  {
   "cell_type": "code",
   "execution_count": 76,
   "metadata": {},
   "outputs": [],
   "source": [
    "test=test.drop(['Active_Since'],1)"
   ]
  },
  {
   "cell_type": "code",
   "execution_count": 77,
   "metadata": {},
   "outputs": [],
   "source": [
    "for c in ['DistArea_ID', 'Medicine_Type']:\n",
    "    lbl=LabelEncoder()\n",
    "    lbl.fit(list(test[c].values))\n",
    "    test[c] = lbl.transform(list(test[c].values))"
   ]
  },
  {
   "cell_type": "code",
   "execution_count": 78,
   "metadata": {
    "collapsed": true
   },
   "outputs": [],
   "source": [
    "test['mild']=np.where(test['SidEffect_Level']=='mild',1,0)"
   ]
  },
  {
   "cell_type": "code",
   "execution_count": 79,
   "metadata": {
    "collapsed": true
   },
   "outputs": [],
   "source": [
    "test=test.drop(['SidEffect_Level'],1)"
   ]
  },
  {
   "cell_type": "code",
   "execution_count": 80,
   "metadata": {
    "collapsed": true
   },
   "outputs": [],
   "source": [
    "d1=pd.get_dummies(test['Area_Type'])\n",
    "d1=d1.drop(['Industrial'],1)\n",
    "test=pd.concat([test,d1],1)"
   ]
  },
  {
   "cell_type": "code",
   "execution_count": 81,
   "metadata": {
    "collapsed": true
   },
   "outputs": [],
   "source": [
    "d1=pd.get_dummies(test['Area_City_Type'],prefix='act')\n",
    "d1=d1.drop(['act_Tier 1'],1)\n",
    "test=pd.concat([test,d1],1)\n"
   ]
  },
  {
   "cell_type": "code",
   "execution_count": 82,
   "metadata": {
    "collapsed": true
   },
   "outputs": [],
   "source": [
    "test=test.drop(['Area_Type','Area_dist_level','Area_City_Type'],1)\n"
   ]
  },
  {
   "cell_type": "code",
   "execution_count": 83,
   "metadata": {},
   "outputs": [
    {
     "data": {
      "text/html": [
       "<div>\n",
       "<style>\n",
       "    .dataframe thead tr:only-child th {\n",
       "        text-align: right;\n",
       "    }\n",
       "\n",
       "    .dataframe thead th {\n",
       "        text-align: left;\n",
       "    }\n",
       "\n",
       "    .dataframe tbody tr th {\n",
       "        vertical-align: top;\n",
       "    }\n",
       "</style>\n",
       "<table border=\"1\" class=\"dataframe\">\n",
       "  <thead>\n",
       "    <tr style=\"text-align: right;\">\n",
       "      <th></th>\n",
       "      <th>DistArea_ID</th>\n",
       "      <th>Medicine_MRP</th>\n",
       "      <th>Medicine_Type</th>\n",
       "      <th>Availability_rating</th>\n",
       "      <th>active from c_d</th>\n",
       "      <th>mild</th>\n",
       "      <th>CityLimits</th>\n",
       "      <th>DownTown</th>\n",
       "      <th>MidTownResidential</th>\n",
       "      <th>act_Tier 2</th>\n",
       "      <th>act_Tier 3</th>\n",
       "    </tr>\n",
       "  </thead>\n",
       "  <tbody>\n",
       "    <tr>\n",
       "      <th>0</th>\n",
       "      <td>5</td>\n",
       "      <td>85.5328</td>\n",
       "      <td>2</td>\n",
       "      <td>0.112747</td>\n",
       "      <td>34</td>\n",
       "      <td>1</td>\n",
       "      <td>1</td>\n",
       "      <td>0</td>\n",
       "      <td>0</td>\n",
       "      <td>0</td>\n",
       "      <td>1</td>\n",
       "    </tr>\n",
       "    <tr>\n",
       "      <th>1</th>\n",
       "      <td>7</td>\n",
       "      <td>257.1460</td>\n",
       "      <td>12</td>\n",
       "      <td>0.144446</td>\n",
       "      <td>17</td>\n",
       "      <td>1</td>\n",
       "      <td>0</td>\n",
       "      <td>1</td>\n",
       "      <td>0</td>\n",
       "      <td>1</td>\n",
       "      <td>0</td>\n",
       "    </tr>\n",
       "    <tr>\n",
       "      <th>2</th>\n",
       "      <td>7</td>\n",
       "      <td>98.1172</td>\n",
       "      <td>5</td>\n",
       "      <td>0.144221</td>\n",
       "      <td>17</td>\n",
       "      <td>1</td>\n",
       "      <td>0</td>\n",
       "      <td>1</td>\n",
       "      <td>0</td>\n",
       "      <td>1</td>\n",
       "      <td>0</td>\n",
       "    </tr>\n",
       "    <tr>\n",
       "      <th>3</th>\n",
       "      <td>0</td>\n",
       "      <td>135.3730</td>\n",
       "      <td>15</td>\n",
       "      <td>0.100388</td>\n",
       "      <td>21</td>\n",
       "      <td>1</td>\n",
       "      <td>0</td>\n",
       "      <td>0</td>\n",
       "      <td>1</td>\n",
       "      <td>0</td>\n",
       "      <td>1</td>\n",
       "    </tr>\n",
       "    <tr>\n",
       "      <th>4</th>\n",
       "      <td>4</td>\n",
       "      <td>112.8016</td>\n",
       "      <td>12</td>\n",
       "      <td>0.022585</td>\n",
       "      <td>34</td>\n",
       "      <td>1</td>\n",
       "      <td>0</td>\n",
       "      <td>0</td>\n",
       "      <td>1</td>\n",
       "      <td>0</td>\n",
       "      <td>0</td>\n",
       "    </tr>\n",
       "  </tbody>\n",
       "</table>\n",
       "</div>"
      ],
      "text/plain": [
       "   DistArea_ID  Medicine_MRP  Medicine_Type  Availability_rating  \\\n",
       "0            5       85.5328              2             0.112747   \n",
       "1            7      257.1460             12             0.144446   \n",
       "2            7       98.1172              5             0.144221   \n",
       "3            0      135.3730             15             0.100388   \n",
       "4            4      112.8016             12             0.022585   \n",
       "\n",
       "   active from c_d  mild  CityLimits  DownTown  MidTownResidential  \\\n",
       "0               34     1           1         0                   0   \n",
       "1               17     1           0         1                   0   \n",
       "2               17     1           0         1                   0   \n",
       "3               21     1           0         0                   1   \n",
       "4               34     1           0         0                   1   \n",
       "\n",
       "   act_Tier 2  act_Tier 3  \n",
       "0           0           1  \n",
       "1           1           0  \n",
       "2           1           0  \n",
       "3           0           1  \n",
       "4           0           0  "
      ]
     },
     "execution_count": 83,
     "metadata": {},
     "output_type": "execute_result"
    }
   ],
   "source": [
    "test.head()"
   ]
  },
  {
   "cell_type": "code",
   "execution_count": 84,
   "metadata": {},
   "outputs": [
    {
     "data": {
      "text/html": [
       "<div>\n",
       "<style>\n",
       "    .dataframe thead tr:only-child th {\n",
       "        text-align: right;\n",
       "    }\n",
       "\n",
       "    .dataframe thead th {\n",
       "        text-align: left;\n",
       "    }\n",
       "\n",
       "    .dataframe tbody tr th {\n",
       "        vertical-align: top;\n",
       "    }\n",
       "</style>\n",
       "<table border=\"1\" class=\"dataframe\">\n",
       "  <thead>\n",
       "    <tr style=\"text-align: right;\">\n",
       "      <th></th>\n",
       "      <th>DistArea_ID</th>\n",
       "      <th>Medicine_MRP</th>\n",
       "      <th>Medicine_Type</th>\n",
       "      <th>Availability_rating</th>\n",
       "      <th>active from c_d</th>\n",
       "      <th>mild</th>\n",
       "      <th>CityLimits</th>\n",
       "      <th>DownTown</th>\n",
       "      <th>MidTownResidential</th>\n",
       "      <th>act_Tier 2</th>\n",
       "      <th>act_Tier 3</th>\n",
       "    </tr>\n",
       "  </thead>\n",
       "  <tbody>\n",
       "    <tr>\n",
       "      <th>0</th>\n",
       "      <td>8</td>\n",
       "      <td>160.2366</td>\n",
       "      <td>4</td>\n",
       "      <td>0.070422</td>\n",
       "      <td>22</td>\n",
       "      <td>0</td>\n",
       "      <td>0</td>\n",
       "      <td>1</td>\n",
       "      <td>0</td>\n",
       "      <td>0</td>\n",
       "      <td>0</td>\n",
       "    </tr>\n",
       "    <tr>\n",
       "      <th>1</th>\n",
       "      <td>5</td>\n",
       "      <td>110.4384</td>\n",
       "      <td>10</td>\n",
       "      <td>0.013000</td>\n",
       "      <td>34</td>\n",
       "      <td>1</td>\n",
       "      <td>1</td>\n",
       "      <td>0</td>\n",
       "      <td>0</td>\n",
       "      <td>0</td>\n",
       "      <td>1</td>\n",
       "    </tr>\n",
       "    <tr>\n",
       "      <th>2</th>\n",
       "      <td>8</td>\n",
       "      <td>259.4092</td>\n",
       "      <td>8</td>\n",
       "      <td>0.060783</td>\n",
       "      <td>22</td>\n",
       "      <td>1</td>\n",
       "      <td>0</td>\n",
       "      <td>1</td>\n",
       "      <td>0</td>\n",
       "      <td>0</td>\n",
       "      <td>0</td>\n",
       "    </tr>\n",
       "    <tr>\n",
       "      <th>3</th>\n",
       "      <td>8</td>\n",
       "      <td>99.9830</td>\n",
       "      <td>12</td>\n",
       "      <td>0.065555</td>\n",
       "      <td>22</td>\n",
       "      <td>1</td>\n",
       "      <td>0</td>\n",
       "      <td>1</td>\n",
       "      <td>0</td>\n",
       "      <td>0</td>\n",
       "      <td>0</td>\n",
       "    </tr>\n",
       "    <tr>\n",
       "      <th>4</th>\n",
       "      <td>4</td>\n",
       "      <td>56.4402</td>\n",
       "      <td>9</td>\n",
       "      <td>0.248859</td>\n",
       "      <td>34</td>\n",
       "      <td>0</td>\n",
       "      <td>0</td>\n",
       "      <td>0</td>\n",
       "      <td>1</td>\n",
       "      <td>0</td>\n",
       "      <td>0</td>\n",
       "    </tr>\n",
       "  </tbody>\n",
       "</table>\n",
       "</div>"
      ],
      "text/plain": [
       "   DistArea_ID  Medicine_MRP  Medicine_Type  Availability_rating  \\\n",
       "0            8      160.2366              4             0.070422   \n",
       "1            5      110.4384             10             0.013000   \n",
       "2            8      259.4092              8             0.060783   \n",
       "3            8       99.9830             12             0.065555   \n",
       "4            4       56.4402              9             0.248859   \n",
       "\n",
       "   active from c_d  mild  CityLimits  DownTown  MidTownResidential  \\\n",
       "0               22     0           0         1                   0   \n",
       "1               34     1           1         0                   0   \n",
       "2               22     1           0         1                   0   \n",
       "3               22     1           0         1                   0   \n",
       "4               34     0           0         0                   1   \n",
       "\n",
       "   act_Tier 2  act_Tier 3  \n",
       "0           0           0  \n",
       "1           0           1  \n",
       "2           0           0  \n",
       "3           0           0  \n",
       "4           0           0  "
      ]
     },
     "execution_count": 84,
     "metadata": {},
     "output_type": "execute_result"
    }
   ],
   "source": [
    "train.head()"
   ]
  },
  {
   "cell_type": "code",
   "execution_count": 85,
   "metadata": {},
   "outputs": [],
   "source": [
    "stacked_averaged_models.fit(train.values, y_train)\n",
    "stacked_pred = np.expm1(stacked_averaged_models.predict(test.values))"
   ]
  },
  {
   "cell_type": "code",
   "execution_count": 86,
   "metadata": {},
   "outputs": [
    {
     "data": {
      "text/plain": [
       "array([ 2085.9839857 ,  3454.36874536,  1303.67335007, ...,  2696.5297943 ,\n",
       "        3361.41629487,  3479.81840068])"
      ]
     },
     "execution_count": 86,
     "metadata": {},
     "output_type": "execute_result"
    }
   ],
   "source": [
    "stacked_pred"
   ]
  },
  {
   "cell_type": "code",
   "execution_count": null,
   "metadata": {
    "collapsed": true
   },
   "outputs": [],
   "source": []
  }
 ],
 "metadata": {
  "kernelspec": {
   "display_name": "Python 3",
   "language": "python",
   "name": "python3"
  },
  "language_info": {
   "codemirror_mode": {
    "name": "ipython",
    "version": 3
   },
   "file_extension": ".py",
   "mimetype": "text/x-python",
   "name": "python",
   "nbconvert_exporter": "python",
   "pygments_lexer": "ipython3",
   "version": "3.6.3"
  }
 },
 "nbformat": 4,
 "nbformat_minor": 2
}
